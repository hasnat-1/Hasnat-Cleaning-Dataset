{
 "cells": [
  {
   "cell_type": "markdown",
   "metadata": {},
   "source": [
    "# import pandas"
   ]
  },
  {
   "cell_type": "code",
   "execution_count": 68,
   "metadata": {},
   "outputs": [],
   "source": [
    "import pandas as pd"
   ]
  },
  {
   "cell_type": "markdown",
   "metadata": {},
   "source": [
    "# read csv file "
   ]
  },
  {
   "cell_type": "code",
   "execution_count": 69,
   "metadata": {},
   "outputs": [],
   "source": [
    "df = pd.read_csv('employee-earnings-report1.csv')"
   ]
  },
  {
   "cell_type": "markdown",
   "metadata": {},
   "source": [
    "# display csv"
   ]
  },
  {
   "cell_type": "code",
   "execution_count": 70,
   "metadata": {},
   "outputs": [
    {
     "data": {
      "text/html": [
       "<div>\n",
       "<style scoped>\n",
       "    .dataframe tbody tr th:only-of-type {\n",
       "        vertical-align: middle;\n",
       "    }\n",
       "\n",
       "    .dataframe tbody tr th {\n",
       "        vertical-align: top;\n",
       "    }\n",
       "\n",
       "    .dataframe thead th {\n",
       "        text-align: right;\n",
       "    }\n",
       "</style>\n",
       "<table border=\"1\" class=\"dataframe\">\n",
       "  <thead>\n",
       "    <tr style=\"text-align: right;\">\n",
       "      <th></th>\n",
       "      <th>NAME</th>\n",
       "      <th>DEPARTMENT_NAME</th>\n",
       "      <th>TITLE</th>\n",
       "      <th>REGULAR</th>\n",
       "      <th>RETRO</th>\n",
       "      <th>OTHER</th>\n",
       "      <th>OVERTIME</th>\n",
       "      <th>INJURED</th>\n",
       "      <th>DETAIL</th>\n",
       "      <th>QUINN/EDUCATION INCENTIVE</th>\n",
       "      <th>TOTAL EARNINGS</th>\n",
       "      <th>POSTAL</th>\n",
       "    </tr>\n",
       "  </thead>\n",
       "  <tbody>\n",
       "    <tr>\n",
       "      <th>0</th>\n",
       "      <td>Abadi,Kidani A</td>\n",
       "      <td>Assessing Department</td>\n",
       "      <td>Property Officer</td>\n",
       "      <td>$46,291.98</td>\n",
       "      <td>NaN</td>\n",
       "      <td>$300.00</td>\n",
       "      <td>NaN</td>\n",
       "      <td>NaN</td>\n",
       "      <td>NaN</td>\n",
       "      <td>NaN</td>\n",
       "      <td>$46,591.98</td>\n",
       "      <td>2118</td>\n",
       "    </tr>\n",
       "    <tr>\n",
       "      <th>1</th>\n",
       "      <td>Abasciano,Joseph</td>\n",
       "      <td>Boston Police Department</td>\n",
       "      <td>Police Officer</td>\n",
       "      <td>$6,933.66</td>\n",
       "      <td>NaN</td>\n",
       "      <td>$850.00</td>\n",
       "      <td>$205.92</td>\n",
       "      <td>$74,331.86</td>\n",
       "      <td>NaN</td>\n",
       "      <td>$15,258.44</td>\n",
       "      <td>$97,579.88</td>\n",
       "      <td>2132</td>\n",
       "    </tr>\n",
       "    <tr>\n",
       "      <th>2</th>\n",
       "      <td>Abban,Christopher John</td>\n",
       "      <td>Boston Fire Department</td>\n",
       "      <td>Fire Fighter</td>\n",
       "      <td>$103,442.22</td>\n",
       "      <td>NaN</td>\n",
       "      <td>$550.00</td>\n",
       "      <td>$15,884.53</td>\n",
       "      <td>NaN</td>\n",
       "      <td>$4,746.50</td>\n",
       "      <td>NaN</td>\n",
       "      <td>$124,623.25</td>\n",
       "      <td>2132</td>\n",
       "    </tr>\n",
       "    <tr>\n",
       "      <th>3</th>\n",
       "      <td>Abbasi,Sophia</td>\n",
       "      <td>Green Academy</td>\n",
       "      <td>Manager (C) (non-ac)</td>\n",
       "      <td>$18,249.83</td>\n",
       "      <td>NaN</td>\n",
       "      <td>NaN</td>\n",
       "      <td>NaN</td>\n",
       "      <td>NaN</td>\n",
       "      <td>NaN</td>\n",
       "      <td>NaN</td>\n",
       "      <td>$18,249.83</td>\n",
       "      <td>2148</td>\n",
       "    </tr>\n",
       "    <tr>\n",
       "      <th>4</th>\n",
       "      <td>Abbate-Vaughn,Jorgelina</td>\n",
       "      <td>BPS Ellis Elementary</td>\n",
       "      <td>Teacher</td>\n",
       "      <td>$84,410.28</td>\n",
       "      <td>NaN</td>\n",
       "      <td>$1,250.00</td>\n",
       "      <td>NaN</td>\n",
       "      <td>NaN</td>\n",
       "      <td>NaN</td>\n",
       "      <td>NaN</td>\n",
       "      <td>$85,660.28</td>\n",
       "      <td>2481</td>\n",
       "    </tr>\n",
       "    <tr>\n",
       "      <th>...</th>\n",
       "      <td>...</td>\n",
       "      <td>...</td>\n",
       "      <td>...</td>\n",
       "      <td>...</td>\n",
       "      <td>...</td>\n",
       "      <td>...</td>\n",
       "      <td>...</td>\n",
       "      <td>...</td>\n",
       "      <td>...</td>\n",
       "      <td>...</td>\n",
       "      <td>...</td>\n",
       "      <td>...</td>\n",
       "    </tr>\n",
       "    <tr>\n",
       "      <th>22041</th>\n",
       "      <td>Zukowski III,Charles</td>\n",
       "      <td>BPS School Safety Service</td>\n",
       "      <td>Officer-Bps Police</td>\n",
       "      <td>$45,118.54</td>\n",
       "      <td>NaN</td>\n",
       "      <td>$600.00</td>\n",
       "      <td>$271.92</td>\n",
       "      <td>NaN</td>\n",
       "      <td>NaN</td>\n",
       "      <td>NaN</td>\n",
       "      <td>$45,990.46</td>\n",
       "      <td>2124</td>\n",
       "    </tr>\n",
       "    <tr>\n",
       "      <th>22042</th>\n",
       "      <td>Zuluaga  Castro,Juan Pablo</td>\n",
       "      <td>Boston Cntr - Youth &amp; Families</td>\n",
       "      <td>Lifeguard I</td>\n",
       "      <td>$3,538.84</td>\n",
       "      <td>NaN</td>\n",
       "      <td>NaN</td>\n",
       "      <td>$51.78</td>\n",
       "      <td>NaN</td>\n",
       "      <td>NaN</td>\n",
       "      <td>NaN</td>\n",
       "      <td>$3,590.62</td>\n",
       "      <td>2128</td>\n",
       "    </tr>\n",
       "    <tr>\n",
       "      <th>22043</th>\n",
       "      <td>Zwarich,Maralene Zoann</td>\n",
       "      <td>Dudley St. Neighborhood School</td>\n",
       "      <td>Teacher</td>\n",
       "      <td>$41,747.07</td>\n",
       "      <td>NaN</td>\n",
       "      <td>NaN</td>\n",
       "      <td>NaN</td>\n",
       "      <td>NaN</td>\n",
       "      <td>NaN</td>\n",
       "      <td>NaN</td>\n",
       "      <td>$41,747.07</td>\n",
       "      <td>2118</td>\n",
       "    </tr>\n",
       "    <tr>\n",
       "      <th>22044</th>\n",
       "      <td>Zweig,Susanna B</td>\n",
       "      <td>BPS Substitute Teachers/Nurs</td>\n",
       "      <td>Substitute Teacher HE</td>\n",
       "      <td>$29,489.32</td>\n",
       "      <td>NaN</td>\n",
       "      <td>NaN</td>\n",
       "      <td>NaN</td>\n",
       "      <td>NaN</td>\n",
       "      <td>NaN</td>\n",
       "      <td>NaN</td>\n",
       "      <td>$29,489.32</td>\n",
       "      <td>2125</td>\n",
       "    </tr>\n",
       "    <tr>\n",
       "      <th>22045</th>\n",
       "      <td>Zwerdling,Laura</td>\n",
       "      <td>BPS Special Education</td>\n",
       "      <td>Teacher</td>\n",
       "      <td>$72,207.20</td>\n",
       "      <td>NaN</td>\n",
       "      <td>NaN</td>\n",
       "      <td>NaN</td>\n",
       "      <td>NaN</td>\n",
       "      <td>NaN</td>\n",
       "      <td>NaN</td>\n",
       "      <td>$72,207.20</td>\n",
       "      <td>2140</td>\n",
       "    </tr>\n",
       "  </tbody>\n",
       "</table>\n",
       "<p>22046 rows × 12 columns</p>\n",
       "</div>"
      ],
      "text/plain": [
       "                             NAME                 DEPARTMENT_NAME  \\\n",
       "0                  Abadi,Kidani A            Assessing Department   \n",
       "1                Abasciano,Joseph        Boston Police Department   \n",
       "2          Abban,Christopher John          Boston Fire Department   \n",
       "3                   Abbasi,Sophia                   Green Academy   \n",
       "4         Abbate-Vaughn,Jorgelina            BPS Ellis Elementary   \n",
       "...                           ...                             ...   \n",
       "22041        Zukowski III,Charles       BPS School Safety Service   \n",
       "22042  Zuluaga  Castro,Juan Pablo  Boston Cntr - Youth & Families   \n",
       "22043      Zwarich,Maralene Zoann  Dudley St. Neighborhood School   \n",
       "22044             Zweig,Susanna B    BPS Substitute Teachers/Nurs   \n",
       "22045             Zwerdling,Laura           BPS Special Education   \n",
       "\n",
       "                       TITLE      REGULAR RETRO      OTHER    OVERTIME  \\\n",
       "0           Property Officer   $46,291.98   NaN    $300.00         NaN   \n",
       "1             Police Officer    $6,933.66   NaN    $850.00     $205.92   \n",
       "2               Fire Fighter  $103,442.22   NaN    $550.00  $15,884.53   \n",
       "3       Manager (C) (non-ac)   $18,249.83   NaN        NaN         NaN   \n",
       "4                    Teacher   $84,410.28   NaN  $1,250.00         NaN   \n",
       "...                      ...          ...   ...        ...         ...   \n",
       "22041     Officer-Bps Police   $45,118.54   NaN    $600.00     $271.92   \n",
       "22042            Lifeguard I    $3,538.84   NaN        NaN      $51.78   \n",
       "22043                Teacher   $41,747.07   NaN        NaN         NaN   \n",
       "22044  Substitute Teacher HE   $29,489.32   NaN        NaN         NaN   \n",
       "22045                Teacher   $72,207.20   NaN        NaN         NaN   \n",
       "\n",
       "          INJURED     DETAIL QUINN/EDUCATION INCENTIVE TOTAL EARNINGS POSTAL  \n",
       "0             NaN        NaN                       NaN     $46,591.98   2118  \n",
       "1      $74,331.86        NaN                $15,258.44     $97,579.88   2132  \n",
       "2             NaN  $4,746.50                       NaN    $124,623.25   2132  \n",
       "3             NaN        NaN                       NaN     $18,249.83   2148  \n",
       "4             NaN        NaN                       NaN     $85,660.28   2481  \n",
       "...           ...        ...                       ...            ...    ...  \n",
       "22041         NaN        NaN                       NaN     $45,990.46   2124  \n",
       "22042         NaN        NaN                       NaN      $3,590.62   2128  \n",
       "22043         NaN        NaN                       NaN     $41,747.07   2118  \n",
       "22044         NaN        NaN                       NaN     $29,489.32   2125  \n",
       "22045         NaN        NaN                       NaN     $72,207.20   2140  \n",
       "\n",
       "[22046 rows x 12 columns]"
      ]
     },
     "execution_count": 70,
     "metadata": {},
     "output_type": "execute_result"
    }
   ],
   "source": [
    "df"
   ]
  },
  {
   "cell_type": "markdown",
   "metadata": {},
   "source": [
    "# Data Cleaning Cycle\n",
    "It is the method of analyzing, distinguishing, and correcting untidy, raw data. Data cleaning involves filling in missing values, handling outliers, and distinguishing and fixing errors present in the dataset. Whereas the techniques used for data cleaning might vary in step with different types of datasets. In this tutorial, we will learn how to clean data using pandas. The following are standard steps to map out data cleaning:"
   ]
  },
  {
   "attachments": {
    "image.png": {
     "image/png": "[encoded data removed]"
    }
   },
   "cell_type": "markdown",
   "metadata": {},
   "source": [
    "![image.png](attachment:image.png)"
   ]
  },
  {
   "cell_type": "markdown",
   "metadata": {},
   "source": [
    "# check shapes"
   ]
  },
  {
   "cell_type": "markdown",
   "metadata": {},
   "source": [
    "\n",
    "The **df.shape** attribute in Pandas returns a tuple that contains the dimensions of the DataFrame. The first element of the tuple is the number of rows in the DataFrame and the second element is the number of columns in the DataFrame.\n",
    "\n",
    "For example, if we have a DataFrame with 100 rows and 5 columns, the df.shape attribute would return the tuple **(100, 5)**."
   ]
  },
  {
   "cell_type": "code",
   "execution_count": 71,
   "metadata": {},
   "outputs": [
    {
     "data": {
      "text/plain": [
       "(22046, 12)"
      ]
     },
     "execution_count": 71,
     "metadata": {},
     "output_type": "execute_result"
    }
   ],
   "source": [
    "df.shape"
   ]
  },
  {
   "cell_type": "code",
   "execution_count": 72,
   "metadata": {},
   "outputs": [
    {
     "data": {
      "text/html": [
       "<div>\n",
       "<style scoped>\n",
       "    .dataframe tbody tr th:only-of-type {\n",
       "        vertical-align: middle;\n",
       "    }\n",
       "\n",
       "    .dataframe tbody tr th {\n",
       "        vertical-align: top;\n",
       "    }\n",
       "\n",
       "    .dataframe thead th {\n",
       "        text-align: right;\n",
       "    }\n",
       "</style>\n",
       "<table border=\"1\" class=\"dataframe\">\n",
       "  <thead>\n",
       "    <tr style=\"text-align: right;\">\n",
       "      <th></th>\n",
       "      <th>NAME</th>\n",
       "      <th>DEPARTMENT_NAME</th>\n",
       "      <th>TITLE</th>\n",
       "      <th>REGULAR</th>\n",
       "      <th>RETRO</th>\n",
       "      <th>OTHER</th>\n",
       "      <th>OVERTIME</th>\n",
       "      <th>INJURED</th>\n",
       "      <th>DETAIL</th>\n",
       "      <th>QUINN/EDUCATION INCENTIVE</th>\n",
       "      <th>TOTAL EARNINGS</th>\n",
       "      <th>POSTAL</th>\n",
       "    </tr>\n",
       "  </thead>\n",
       "  <tbody>\n",
       "    <tr>\n",
       "      <th>count</th>\n",
       "      <td>22046</td>\n",
       "      <td>22046</td>\n",
       "      <td>22046</td>\n",
       "      <td>21463</td>\n",
       "      <td>416</td>\n",
       "      <td>12845</td>\n",
       "      <td>6690</td>\n",
       "      <td>1378</td>\n",
       "      <td>2425</td>\n",
       "      <td>1290</td>\n",
       "      <td>22046</td>\n",
       "      <td>22045</td>\n",
       "    </tr>\n",
       "    <tr>\n",
       "      <th>unique</th>\n",
       "      <td>21964</td>\n",
       "      <td>228</td>\n",
       "      <td>1448</td>\n",
       "      <td>16753</td>\n",
       "      <td>412</td>\n",
       "      <td>5496</td>\n",
       "      <td>6561</td>\n",
       "      <td>1312</td>\n",
       "      <td>1745</td>\n",
       "      <td>551</td>\n",
       "      <td>20488</td>\n",
       "      <td>536</td>\n",
       "    </tr>\n",
       "    <tr>\n",
       "      <th>top</th>\n",
       "      <td>Sullivan,Michael</td>\n",
       "      <td>Boston Police Department</td>\n",
       "      <td>Teacher</td>\n",
       "      <td>$8,582.22</td>\n",
       "      <td>$937.50</td>\n",
       "      <td>$800.00</td>\n",
       "      <td>$0.00</td>\n",
       "      <td>$0.00</td>\n",
       "      <td>$368.00</td>\n",
       "      <td>$12,338.56</td>\n",
       "      <td>$8,582.22</td>\n",
       "      <td>2124</td>\n",
       "    </tr>\n",
       "    <tr>\n",
       "      <th>freq</th>\n",
       "      <td>4</td>\n",
       "      <td>3114</td>\n",
       "      <td>5363</td>\n",
       "      <td>130</td>\n",
       "      <td>2</td>\n",
       "      <td>867</td>\n",
       "      <td>7</td>\n",
       "      <td>10</td>\n",
       "      <td>31</td>\n",
       "      <td>76</td>\n",
       "      <td>105</td>\n",
       "      <td>1823</td>\n",
       "    </tr>\n",
       "  </tbody>\n",
       "</table>\n",
       "</div>"
      ],
      "text/plain": [
       "                    NAME           DEPARTMENT_NAME    TITLE    REGULAR  \\\n",
       "count              22046                     22046    22046      21463   \n",
       "unique             21964                       228     1448      16753   \n",
       "top     Sullivan,Michael  Boston Police Department  Teacher  $8,582.22   \n",
       "freq                   4                      3114     5363        130   \n",
       "\n",
       "          RETRO    OTHER OVERTIME INJURED   DETAIL QUINN/EDUCATION INCENTIVE  \\\n",
       "count       416    12845     6690    1378     2425                      1290   \n",
       "unique      412     5496     6561    1312     1745                       551   \n",
       "top     $937.50  $800.00    $0.00   $0.00  $368.00                $12,338.56   \n",
       "freq          2      867        7      10       31                        76   \n",
       "\n",
       "       TOTAL EARNINGS POSTAL  \n",
       "count           22046  22045  \n",
       "unique          20488    536  \n",
       "top         $8,582.22   2124  \n",
       "freq              105   1823  "
      ]
     },
     "execution_count": 72,
     "metadata": {},
     "output_type": "execute_result"
    }
   ],
   "source": [
    "df.describe()"
   ]
  },
  {
   "cell_type": "code",
   "execution_count": 73,
   "metadata": {},
   "outputs": [
    {
     "name": "stdout",
     "output_type": "stream",
     "text": [
      "<class 'pandas.core.frame.DataFrame'>\n",
      "RangeIndex: 22046 entries, 0 to 22045\n",
      "Data columns (total 12 columns):\n",
      " #   Column                     Non-Null Count  Dtype \n",
      "---  ------                     --------------  ----- \n",
      " 0   NAME                       22046 non-null  object\n",
      " 1   DEPARTMENT_NAME            22046 non-null  object\n",
      " 2   TITLE                      22046 non-null  object\n",
      " 3   REGULAR                    21463 non-null  object\n",
      " 4   RETRO                      416 non-null    object\n",
      " 5   OTHER                      12845 non-null  object\n",
      " 6   OVERTIME                   6690 non-null   object\n",
      " 7   INJURED                    1378 non-null   object\n",
      " 8   DETAIL                     2425 non-null   object\n",
      " 9   QUINN/EDUCATION INCENTIVE  1290 non-null   object\n",
      " 10  TOTAL EARNINGS             22046 non-null  object\n",
      " 11  POSTAL                     22045 non-null  object\n",
      "dtypes: object(12)\n",
      "memory usage: 2.0+ MB\n"
     ]
    }
   ],
   "source": [
    "df.info()"
   ]
  },
  {
   "cell_type": "code",
   "execution_count": 74,
   "metadata": {},
   "outputs": [
    {
     "data": {
      "text/html": [
       "<div>\n",
       "<style scoped>\n",
       "    .dataframe tbody tr th:only-of-type {\n",
       "        vertical-align: middle;\n",
       "    }\n",
       "\n",
       "    .dataframe tbody tr th {\n",
       "        vertical-align: top;\n",
       "    }\n",
       "\n",
       "    .dataframe thead th {\n",
       "        text-align: right;\n",
       "    }\n",
       "</style>\n",
       "<table border=\"1\" class=\"dataframe\">\n",
       "  <thead>\n",
       "    <tr style=\"text-align: right;\">\n",
       "      <th></th>\n",
       "      <th>NAME</th>\n",
       "      <th>DEPARTMENT_NAME</th>\n",
       "      <th>TITLE</th>\n",
       "      <th>REGULAR</th>\n",
       "      <th>RETRO</th>\n",
       "      <th>OTHER</th>\n",
       "      <th>OVERTIME</th>\n",
       "      <th>INJURED</th>\n",
       "      <th>DETAIL</th>\n",
       "      <th>QUINN/EDUCATION INCENTIVE</th>\n",
       "      <th>TOTAL EARNINGS</th>\n",
       "      <th>POSTAL</th>\n",
       "    </tr>\n",
       "  </thead>\n",
       "  <tbody>\n",
       "    <tr>\n",
       "      <th>0</th>\n",
       "      <td>Abadi,Kidani A</td>\n",
       "      <td>Assessing Department</td>\n",
       "      <td>Property Officer</td>\n",
       "      <td>$46,291.98</td>\n",
       "      <td>NaN</td>\n",
       "      <td>$300.00</td>\n",
       "      <td>NaN</td>\n",
       "      <td>NaN</td>\n",
       "      <td>NaN</td>\n",
       "      <td>NaN</td>\n",
       "      <td>$46,591.98</td>\n",
       "      <td>2118</td>\n",
       "    </tr>\n",
       "    <tr>\n",
       "      <th>1</th>\n",
       "      <td>Abasciano,Joseph</td>\n",
       "      <td>Boston Police Department</td>\n",
       "      <td>Police Officer</td>\n",
       "      <td>$6,933.66</td>\n",
       "      <td>NaN</td>\n",
       "      <td>$850.00</td>\n",
       "      <td>$205.92</td>\n",
       "      <td>$74,331.86</td>\n",
       "      <td>NaN</td>\n",
       "      <td>$15,258.44</td>\n",
       "      <td>$97,579.88</td>\n",
       "      <td>2132</td>\n",
       "    </tr>\n",
       "    <tr>\n",
       "      <th>2</th>\n",
       "      <td>Abban,Christopher John</td>\n",
       "      <td>Boston Fire Department</td>\n",
       "      <td>Fire Fighter</td>\n",
       "      <td>$103,442.22</td>\n",
       "      <td>NaN</td>\n",
       "      <td>$550.00</td>\n",
       "      <td>$15,884.53</td>\n",
       "      <td>NaN</td>\n",
       "      <td>$4,746.50</td>\n",
       "      <td>NaN</td>\n",
       "      <td>$124,623.25</td>\n",
       "      <td>2132</td>\n",
       "    </tr>\n",
       "    <tr>\n",
       "      <th>3</th>\n",
       "      <td>Abbasi,Sophia</td>\n",
       "      <td>Green Academy</td>\n",
       "      <td>Manager (C) (non-ac)</td>\n",
       "      <td>$18,249.83</td>\n",
       "      <td>NaN</td>\n",
       "      <td>NaN</td>\n",
       "      <td>NaN</td>\n",
       "      <td>NaN</td>\n",
       "      <td>NaN</td>\n",
       "      <td>NaN</td>\n",
       "      <td>$18,249.83</td>\n",
       "      <td>2148</td>\n",
       "    </tr>\n",
       "    <tr>\n",
       "      <th>4</th>\n",
       "      <td>Abbate-Vaughn,Jorgelina</td>\n",
       "      <td>BPS Ellis Elementary</td>\n",
       "      <td>Teacher</td>\n",
       "      <td>$84,410.28</td>\n",
       "      <td>NaN</td>\n",
       "      <td>$1,250.00</td>\n",
       "      <td>NaN</td>\n",
       "      <td>NaN</td>\n",
       "      <td>NaN</td>\n",
       "      <td>NaN</td>\n",
       "      <td>$85,660.28</td>\n",
       "      <td>2481</td>\n",
       "    </tr>\n",
       "  </tbody>\n",
       "</table>\n",
       "</div>"
      ],
      "text/plain": [
       "                      NAME           DEPARTMENT_NAME                 TITLE  \\\n",
       "0           Abadi,Kidani A      Assessing Department      Property Officer   \n",
       "1         Abasciano,Joseph  Boston Police Department        Police Officer   \n",
       "2   Abban,Christopher John    Boston Fire Department          Fire Fighter   \n",
       "3            Abbasi,Sophia             Green Academy  Manager (C) (non-ac)   \n",
       "4  Abbate-Vaughn,Jorgelina      BPS Ellis Elementary               Teacher   \n",
       "\n",
       "       REGULAR RETRO      OTHER    OVERTIME     INJURED     DETAIL  \\\n",
       "0   $46,291.98   NaN    $300.00         NaN         NaN        NaN   \n",
       "1    $6,933.66   NaN    $850.00     $205.92  $74,331.86        NaN   \n",
       "2  $103,442.22   NaN    $550.00  $15,884.53         NaN  $4,746.50   \n",
       "3   $18,249.83   NaN        NaN         NaN         NaN        NaN   \n",
       "4   $84,410.28   NaN  $1,250.00         NaN         NaN        NaN   \n",
       "\n",
       "  QUINN/EDUCATION INCENTIVE TOTAL EARNINGS POSTAL  \n",
       "0                       NaN     $46,591.98   2118  \n",
       "1                $15,258.44     $97,579.88   2132  \n",
       "2                       NaN    $124,623.25   2132  \n",
       "3                       NaN     $18,249.83   2148  \n",
       "4                       NaN     $85,660.28   2481  "
      ]
     },
     "execution_count": 74,
     "metadata": {},
     "output_type": "execute_result"
    }
   ],
   "source": [
    "df.head(5)"
   ]
  },
  {
   "cell_type": "code",
   "execution_count": 75,
   "metadata": {},
   "outputs": [
    {
     "data": {
      "text/html": [
       "<div>\n",
       "<style scoped>\n",
       "    .dataframe tbody tr th:only-of-type {\n",
       "        vertical-align: middle;\n",
       "    }\n",
       "\n",
       "    .dataframe tbody tr th {\n",
       "        vertical-align: top;\n",
       "    }\n",
       "\n",
       "    .dataframe thead th {\n",
       "        text-align: right;\n",
       "    }\n",
       "</style>\n",
       "<table border=\"1\" class=\"dataframe\">\n",
       "  <thead>\n",
       "    <tr style=\"text-align: right;\">\n",
       "      <th></th>\n",
       "      <th>NAME</th>\n",
       "      <th>DEPARTMENT_NAME</th>\n",
       "      <th>TITLE</th>\n",
       "      <th>REGULAR</th>\n",
       "      <th>RETRO</th>\n",
       "      <th>OTHER</th>\n",
       "      <th>OVERTIME</th>\n",
       "      <th>INJURED</th>\n",
       "      <th>DETAIL</th>\n",
       "      <th>QUINN/EDUCATION INCENTIVE</th>\n",
       "      <th>TOTAL EARNINGS</th>\n",
       "      <th>POSTAL</th>\n",
       "    </tr>\n",
       "  </thead>\n",
       "  <tbody>\n",
       "    <tr>\n",
       "      <th>0</th>\n",
       "      <td>False</td>\n",
       "      <td>False</td>\n",
       "      <td>False</td>\n",
       "      <td>False</td>\n",
       "      <td>True</td>\n",
       "      <td>False</td>\n",
       "      <td>True</td>\n",
       "      <td>True</td>\n",
       "      <td>True</td>\n",
       "      <td>True</td>\n",
       "      <td>False</td>\n",
       "      <td>False</td>\n",
       "    </tr>\n",
       "    <tr>\n",
       "      <th>1</th>\n",
       "      <td>False</td>\n",
       "      <td>False</td>\n",
       "      <td>False</td>\n",
       "      <td>False</td>\n",
       "      <td>True</td>\n",
       "      <td>False</td>\n",
       "      <td>False</td>\n",
       "      <td>False</td>\n",
       "      <td>True</td>\n",
       "      <td>False</td>\n",
       "      <td>False</td>\n",
       "      <td>False</td>\n",
       "    </tr>\n",
       "    <tr>\n",
       "      <th>2</th>\n",
       "      <td>False</td>\n",
       "      <td>False</td>\n",
       "      <td>False</td>\n",
       "      <td>False</td>\n",
       "      <td>True</td>\n",
       "      <td>False</td>\n",
       "      <td>False</td>\n",
       "      <td>True</td>\n",
       "      <td>False</td>\n",
       "      <td>True</td>\n",
       "      <td>False</td>\n",
       "      <td>False</td>\n",
       "    </tr>\n",
       "    <tr>\n",
       "      <th>3</th>\n",
       "      <td>False</td>\n",
       "      <td>False</td>\n",
       "      <td>False</td>\n",
       "      <td>False</td>\n",
       "      <td>True</td>\n",
       "      <td>True</td>\n",
       "      <td>True</td>\n",
       "      <td>True</td>\n",
       "      <td>True</td>\n",
       "      <td>True</td>\n",
       "      <td>False</td>\n",
       "      <td>False</td>\n",
       "    </tr>\n",
       "    <tr>\n",
       "      <th>4</th>\n",
       "      <td>False</td>\n",
       "      <td>False</td>\n",
       "      <td>False</td>\n",
       "      <td>False</td>\n",
       "      <td>True</td>\n",
       "      <td>False</td>\n",
       "      <td>True</td>\n",
       "      <td>True</td>\n",
       "      <td>True</td>\n",
       "      <td>True</td>\n",
       "      <td>False</td>\n",
       "      <td>False</td>\n",
       "    </tr>\n",
       "    <tr>\n",
       "      <th>...</th>\n",
       "      <td>...</td>\n",
       "      <td>...</td>\n",
       "      <td>...</td>\n",
       "      <td>...</td>\n",
       "      <td>...</td>\n",
       "      <td>...</td>\n",
       "      <td>...</td>\n",
       "      <td>...</td>\n",
       "      <td>...</td>\n",
       "      <td>...</td>\n",
       "      <td>...</td>\n",
       "      <td>...</td>\n",
       "    </tr>\n",
       "    <tr>\n",
       "      <th>22041</th>\n",
       "      <td>False</td>\n",
       "      <td>False</td>\n",
       "      <td>False</td>\n",
       "      <td>False</td>\n",
       "      <td>True</td>\n",
       "      <td>False</td>\n",
       "      <td>False</td>\n",
       "      <td>True</td>\n",
       "      <td>True</td>\n",
       "      <td>True</td>\n",
       "      <td>False</td>\n",
       "      <td>False</td>\n",
       "    </tr>\n",
       "    <tr>\n",
       "      <th>22042</th>\n",
       "      <td>False</td>\n",
       "      <td>False</td>\n",
       "      <td>False</td>\n",
       "      <td>False</td>\n",
       "      <td>True</td>\n",
       "      <td>True</td>\n",
       "      <td>False</td>\n",
       "      <td>True</td>\n",
       "      <td>True</td>\n",
       "      <td>True</td>\n",
       "      <td>False</td>\n",
       "      <td>False</td>\n",
       "    </tr>\n",
       "    <tr>\n",
       "      <th>22043</th>\n",
       "      <td>False</td>\n",
       "      <td>False</td>\n",
       "      <td>False</td>\n",
       "      <td>False</td>\n",
       "      <td>True</td>\n",
       "      <td>True</td>\n",
       "      <td>True</td>\n",
       "      <td>True</td>\n",
       "      <td>True</td>\n",
       "      <td>True</td>\n",
       "      <td>False</td>\n",
       "      <td>False</td>\n",
       "    </tr>\n",
       "    <tr>\n",
       "      <th>22044</th>\n",
       "      <td>False</td>\n",
       "      <td>False</td>\n",
       "      <td>False</td>\n",
       "      <td>False</td>\n",
       "      <td>True</td>\n",
       "      <td>True</td>\n",
       "      <td>True</td>\n",
       "      <td>True</td>\n",
       "      <td>True</td>\n",
       "      <td>True</td>\n",
       "      <td>False</td>\n",
       "      <td>False</td>\n",
       "    </tr>\n",
       "    <tr>\n",
       "      <th>22045</th>\n",
       "      <td>False</td>\n",
       "      <td>False</td>\n",
       "      <td>False</td>\n",
       "      <td>False</td>\n",
       "      <td>True</td>\n",
       "      <td>True</td>\n",
       "      <td>True</td>\n",
       "      <td>True</td>\n",
       "      <td>True</td>\n",
       "      <td>True</td>\n",
       "      <td>False</td>\n",
       "      <td>False</td>\n",
       "    </tr>\n",
       "  </tbody>\n",
       "</table>\n",
       "<p>22046 rows × 12 columns</p>\n",
       "</div>"
      ],
      "text/plain": [
       "        NAME  DEPARTMENT_NAME  TITLE  REGULAR  RETRO  OTHER  OVERTIME  \\\n",
       "0      False            False  False    False   True  False      True   \n",
       "1      False            False  False    False   True  False     False   \n",
       "2      False            False  False    False   True  False     False   \n",
       "3      False            False  False    False   True   True      True   \n",
       "4      False            False  False    False   True  False      True   \n",
       "...      ...              ...    ...      ...    ...    ...       ...   \n",
       "22041  False            False  False    False   True  False     False   \n",
       "22042  False            False  False    False   True   True     False   \n",
       "22043  False            False  False    False   True   True      True   \n",
       "22044  False            False  False    False   True   True      True   \n",
       "22045  False            False  False    False   True   True      True   \n",
       "\n",
       "       INJURED  DETAIL  QUINN/EDUCATION INCENTIVE  TOTAL EARNINGS  POSTAL  \n",
       "0         True    True                       True           False   False  \n",
       "1        False    True                      False           False   False  \n",
       "2         True   False                       True           False   False  \n",
       "3         True    True                       True           False   False  \n",
       "4         True    True                       True           False   False  \n",
       "...        ...     ...                        ...             ...     ...  \n",
       "22041     True    True                       True           False   False  \n",
       "22042     True    True                       True           False   False  \n",
       "22043     True    True                       True           False   False  \n",
       "22044     True    True                       True           False   False  \n",
       "22045     True    True                       True           False   False  \n",
       "\n",
       "[22046 rows x 12 columns]"
      ]
     },
     "execution_count": 75,
     "metadata": {},
     "output_type": "execute_result"
    }
   ],
   "source": [
    "df.isnull()"
   ]
  },
  {
   "cell_type": "code",
   "execution_count": 76,
   "metadata": {},
   "outputs": [
    {
     "data": {
      "text/plain": [
       "NAME                             0\n",
       "DEPARTMENT_NAME                  0\n",
       "TITLE                            0\n",
       "REGULAR                        583\n",
       "RETRO                        21630\n",
       "OTHER                         9201\n",
       "OVERTIME                     15356\n",
       "INJURED                      20668\n",
       "DETAIL                       19621\n",
       "QUINN/EDUCATION INCENTIVE    20756\n",
       "TOTAL EARNINGS                   0\n",
       "POSTAL                           1\n",
       "dtype: int64"
      ]
     },
     "execution_count": 76,
     "metadata": {},
     "output_type": "execute_result"
    }
   ],
   "source": [
    "df.isnull().sum()"
   ]
  },
  {
   "cell_type": "code",
   "execution_count": 77,
   "metadata": {},
   "outputs": [
    {
     "data": {
      "text/plain": [
       "NAME                         22046\n",
       "DEPARTMENT_NAME              22046\n",
       "TITLE                        22046\n",
       "REGULAR                      21463\n",
       "RETRO                          416\n",
       "OTHER                        12845\n",
       "OVERTIME                      6690\n",
       "INJURED                       1378\n",
       "DETAIL                        2425\n",
       "QUINN/EDUCATION INCENTIVE     1290\n",
       "TOTAL EARNINGS               22046\n",
       "POSTAL                       22045\n",
       "dtype: int64"
      ]
     },
     "execution_count": 77,
     "metadata": {},
     "output_type": "execute_result"
    }
   ],
   "source": [
    "df.notnull().sum()"
   ]
  },
  {
   "cell_type": "code",
   "execution_count": 78,
   "metadata": {},
   "outputs": [
    {
     "data": {
      "text/plain": [
       "0        False\n",
       "1        False\n",
       "2        False\n",
       "3        False\n",
       "4        False\n",
       "         ...  \n",
       "22041    False\n",
       "22042    False\n",
       "22043    False\n",
       "22044    False\n",
       "22045    False\n",
       "Length: 22046, dtype: bool"
      ]
     },
     "execution_count": 78,
     "metadata": {},
     "output_type": "execute_result"
    }
   ],
   "source": [
    "df.duplicated()"
   ]
  },
  {
   "cell_type": "markdown",
   "metadata": {},
   "source": [
    "The **df.columns** attribute in Pandas returns a list of the column names in the DataFrame. The list is in the same order as the columns in the DataFrame."
   ]
  },
  {
   "cell_type": "code",
   "execution_count": 79,
   "metadata": {},
   "outputs": [
    {
     "data": {
      "text/plain": [
       "Index(['NAME', 'DEPARTMENT_NAME', 'TITLE', 'REGULAR', 'RETRO', 'OTHER',\n",
       "       'OVERTIME', 'INJURED', 'DETAIL', 'QUINN/EDUCATION INCENTIVE',\n",
       "       'TOTAL EARNINGS', 'POSTAL'],\n",
       "      dtype='object')"
      ]
     },
     "execution_count": 79,
     "metadata": {},
     "output_type": "execute_result"
    }
   ],
   "source": [
    "df.columns"
   ]
  },
  {
   "cell_type": "markdown",
   "metadata": {},
   "source": [
    "The iqr = df['OVERTIME'].quantile(0.75) - df['OVERTIME'].quantile(0.25) code calculates the interquartile range (IQR) of the OVERTIME column in the df DataFrame. The IQR is a measure of the spread of the data. It is calculated by subtracting the first quartile (Q1) from the third quartile (Q3).\n",
    "\n"
   ]
  },
  {
   "cell_type": "code",
   "execution_count": null,
   "metadata": {},
   "outputs": [],
   "source": [
    "# Identify and address outliers\n",
    "iqr = df['OVERTIME'].quantile(0.75) - df['OVERTIME'].quantile(0.25)"
   ]
  },
  {
   "cell_type": "markdown",
   "metadata": {},
   "source": [
    "# dropna()\n",
    "The **dropna()** function in Pandas is used to remove rows from a DataFrame that contain missing values. The function can be applied to the entire DataFrame or to specific columns."
   ]
  },
  {
   "cell_type": "code",
   "execution_count": null,
   "metadata": {},
   "outputs": [],
   "source": [
    "# Drop rows with missing values\n",
    "df = df.dropna()"
   ]
  },
  {
   "cell_type": "code",
   "execution_count": null,
   "metadata": {},
   "outputs": [
    {
     "data": {
      "text/plain": [
       "NAME                         0\n",
       "DEPARTMENT_NAME              0\n",
       "TITLE                        0\n",
       "REGULAR                      0\n",
       "RETRO                        0\n",
       "OTHER                        0\n",
       "OVERTIME                     0\n",
       "INJURED                      0\n",
       "DETAIL                       0\n",
       "QUINN/EDUCATION INCENTIVE    0\n",
       "TOTAL EARNINGS               0\n",
       "POSTAL                       0\n",
       "dtype: int64"
      ]
     },
     "execution_count": 17,
     "metadata": {},
     "output_type": "execute_result"
    }
   ],
   "source": [
    "df.isnull().sum()"
   ]
  },
  {
   "cell_type": "code",
   "execution_count": null,
   "metadata": {},
   "outputs": [
    {
     "data": {
      "text/plain": [
       "NAME                         36\n",
       "DEPARTMENT_NAME              36\n",
       "TITLE                        36\n",
       "REGULAR                      36\n",
       "RETRO                        36\n",
       "OTHER                        36\n",
       "OVERTIME                     36\n",
       "INJURED                      36\n",
       "DETAIL                       36\n",
       "QUINN/EDUCATION INCENTIVE    36\n",
       "TOTAL EARNINGS               36\n",
       "POSTAL                       36\n",
       "dtype: int64"
      ]
     },
     "execution_count": 18,
     "metadata": {},
     "output_type": "execute_result"
    }
   ],
   "source": [
    "df.notnull().sum()"
   ]
  },
  {
   "cell_type": "markdown",
   "metadata": {},
   "source": [
    "**To apply the dropna() function to specific columns, we can pass a list of column names to the function. For example, to remove rows with missing values in the TOTAL EARNINGS column, we can use the following code:**"
   ]
  },
  {
   "cell_type": "code",
   "execution_count": null,
   "metadata": {},
   "outputs": [],
   "source": [
    "df2=pd.read_csv('employee-earnings-report1.csv')"
   ]
  },
  {
   "cell_type": "code",
   "execution_count": null,
   "metadata": {},
   "outputs": [],
   "source": [
    "df2 = df2.dropna(subset=['TOTAL EARNINGS'])\n"
   ]
  },
  {
   "cell_type": "code",
   "execution_count": null,
   "metadata": {},
   "outputs": [
    {
     "data": {
      "text/plain": [
       "NAME                             0\n",
       "DEPARTMENT_NAME                  0\n",
       "TITLE                            0\n",
       "REGULAR                        583\n",
       "RETRO                        21630\n",
       "OTHER                         9201\n",
       "OVERTIME                     15356\n",
       "INJURED                      20668\n",
       "DETAIL                       19621\n",
       "QUINN/EDUCATION INCENTIVE    20756\n",
       "TOTAL EARNINGS                   0\n",
       "POSTAL                           1\n",
       "dtype: int64"
      ]
     },
     "execution_count": 25,
     "metadata": {},
     "output_type": "execute_result"
    }
   ],
   "source": [
    "df2.isnull().sum()"
   ]
  },
  {
   "cell_type": "code",
   "execution_count": null,
   "metadata": {},
   "outputs": [],
   "source": [
    "df2 = df2.dropna(subset=['OVERTIME'])"
   ]
  },
  {
   "cell_type": "code",
   "execution_count": null,
   "metadata": {},
   "outputs": [
    {
     "data": {
      "text/plain": [
       "NAME                            0\n",
       "DEPARTMENT_NAME                 0\n",
       "TITLE                           0\n",
       "REGULAR                        18\n",
       "RETRO                        6379\n",
       "OTHER                        1438\n",
       "OVERTIME                        0\n",
       "INJURED                      5729\n",
       "DETAIL                       4271\n",
       "QUINN/EDUCATION INCENTIVE    5456\n",
       "TOTAL EARNINGS                  0\n",
       "POSTAL                          0\n",
       "dtype: int64"
      ]
     },
     "execution_count": 27,
     "metadata": {},
     "output_type": "execute_result"
    }
   ],
   "source": [
    "df2.isnull().sum()"
   ]
  },
  {
   "cell_type": "code",
   "execution_count": null,
   "metadata": {},
   "outputs": [],
   "source": [
    "df = pd.read_csv('employee-earnings-report1.csv')"
   ]
  },
  {
   "cell_type": "code",
   "execution_count": null,
   "metadata": {},
   "outputs": [
    {
     "data": {
      "text/plain": [
       "NAME                             0\n",
       "DEPARTMENT_NAME                  0\n",
       "TITLE                            0\n",
       "REGULAR                        583\n",
       "RETRO                        21630\n",
       "OTHER                         9201\n",
       "OVERTIME                     15356\n",
       "INJURED                      20668\n",
       "DETAIL                       19621\n",
       "QUINN/EDUCATION INCENTIVE    20756\n",
       "TOTAL EARNINGS                   0\n",
       "POSTAL                           1\n",
       "dtype: int64"
      ]
     },
     "execution_count": 32,
     "metadata": {},
     "output_type": "execute_result"
    }
   ],
   "source": [
    "df.isnull().sum()"
   ]
  },
  {
   "cell_type": "code",
   "execution_count": null,
   "metadata": {},
   "outputs": [],
   "source": [
    "# Fill in missing values with the last valid value in the column\n",
    "df = df.ffill()"
   ]
  },
  {
   "cell_type": "code",
   "execution_count": null,
   "metadata": {},
   "outputs": [
    {
     "data": {
      "text/plain": [
       "NAME                          0\n",
       "DEPARTMENT_NAME               0\n",
       "TITLE                         0\n",
       "REGULAR                       0\n",
       "RETRO                        56\n",
       "OTHER                         0\n",
       "OVERTIME                      1\n",
       "INJURED                       1\n",
       "DETAIL                        2\n",
       "QUINN/EDUCATION INCENTIVE     1\n",
       "TOTAL EARNINGS                0\n",
       "POSTAL                        0\n",
       "dtype: int64"
      ]
     },
     "execution_count": 34,
     "metadata": {},
     "output_type": "execute_result"
    }
   ],
   "source": [
    "df.isnull().sum()"
   ]
  },
  {
   "cell_type": "code",
   "execution_count": null,
   "metadata": {},
   "outputs": [],
   "source": [
    "df = pd.read_csv('employee-earnings-report1.csv')\n"
   ]
  },
  {
   "cell_type": "code",
   "execution_count": null,
   "metadata": {},
   "outputs": [
    {
     "data": {
      "text/plain": [
       "NAME                             0\n",
       "DEPARTMENT_NAME                  0\n",
       "TITLE                            0\n",
       "REGULAR                        583\n",
       "RETRO                        21630\n",
       "OTHER                         9201\n",
       "OVERTIME                     15356\n",
       "INJURED                      20668\n",
       "DETAIL                       19621\n",
       "QUINN/EDUCATION INCENTIVE    20756\n",
       "TOTAL EARNINGS                   0\n",
       "POSTAL                           1\n",
       "dtype: int64"
      ]
     },
     "execution_count": 36,
     "metadata": {},
     "output_type": "execute_result"
    }
   ],
   "source": [
    "df.isnull().sum()"
   ]
  },
  {
   "cell_type": "code",
   "execution_count": null,
   "metadata": {},
   "outputs": [],
   "source": [
    "# Drop the POSTAL column\n",
    "df = df.drop('POSTAL', axis=1)"
   ]
  },
  {
   "cell_type": "code",
   "execution_count": null,
   "metadata": {},
   "outputs": [
    {
     "data": {
      "text/plain": [
       "NAME                             0\n",
       "DEPARTMENT_NAME                  0\n",
       "TITLE                            0\n",
       "REGULAR                        583\n",
       "RETRO                        21630\n",
       "OTHER                         9201\n",
       "OVERTIME                     15356\n",
       "INJURED                      20668\n",
       "DETAIL                       19621\n",
       "QUINN/EDUCATION INCENTIVE    20756\n",
       "TOTAL EARNINGS                   0\n",
       "dtype: int64"
      ]
     },
     "execution_count": 38,
     "metadata": {},
     "output_type": "execute_result"
    }
   ],
   "source": [
    "df.isnull().sum()"
   ]
  },
  {
   "cell_type": "code",
   "execution_count": null,
   "metadata": {},
   "outputs": [],
   "source": [
    "df = pd.read_csv('employee-earnings-report1.csv')\n"
   ]
  },
  {
   "cell_type": "code",
   "execution_count": null,
   "metadata": {},
   "outputs": [
    {
     "data": {
      "text/plain": [
       "NAME                             0\n",
       "DEPARTMENT_NAME                  0\n",
       "TITLE                            0\n",
       "REGULAR                        583\n",
       "RETRO                        21630\n",
       "OTHER                         9201\n",
       "OVERTIME                     15356\n",
       "INJURED                      20668\n",
       "DETAIL                       19621\n",
       "QUINN/EDUCATION INCENTIVE    20756\n",
       "TOTAL EARNINGS                   0\n",
       "POSTAL                           1\n",
       "dtype: int64"
      ]
     },
     "execution_count": 40,
     "metadata": {},
     "output_type": "execute_result"
    }
   ],
   "source": [
    "df.isnull().sum()"
   ]
  },
  {
   "cell_type": "code",
   "execution_count": null,
   "metadata": {},
   "outputs": [],
   "source": [
    "# Calculate the IQR of the OVERTIME column\n",
    "iqr = df['OVERTIME'].IQR()"
   ]
  },
  {
   "cell_type": "code",
   "execution_count": null,
   "metadata": {},
   "outputs": [
    {
     "data": {
      "text/plain": [
       "NAME                             0\n",
       "DEPARTMENT_NAME                  0\n",
       "TITLE                            0\n",
       "REGULAR                        583\n",
       "RETRO                        21630\n",
       "OTHER                         9201\n",
       "OVERTIME                     15356\n",
       "INJURED                      20668\n",
       "DETAIL                       19621\n",
       "QUINN/EDUCATION INCENTIVE    20756\n",
       "TOTAL EARNINGS                   0\n",
       "POSTAL                           1\n",
       "dtype: int64"
      ]
     },
     "execution_count": 42,
     "metadata": {},
     "output_type": "execute_result"
    }
   ],
   "source": [
    "df.isnull().sum()"
   ]
  },
  {
   "cell_type": "markdown",
   "metadata": {},
   "source": [
    "#  EDA to identify patterns and trends"
   ]
  },
  {
   "cell_type": "markdown",
   "metadata": {},
   "source": [
    "\n",
    "Exploratory data analysis (EDA) is a process of investigating and analyzing data to discover underlying patterns and trends. EDA can be used to identify relationships between variables, identify outliers, and understand the overall distribution of the data."
   ]
  },
  {
   "cell_type": "code",
   "execution_count": null,
   "metadata": {},
   "outputs": [
    {
     "name": "stdout",
     "output_type": "stream",
     "text": [
      "Requirement already satisfied: matplotlib in c:\\users\\hasnat\\appdata\\local\\programs\\python\\python312\\lib\\site-packages (3.8.0)\n",
      "Requirement already satisfied: contourpy>=1.0.1 in c:\\users\\hasnat\\appdata\\local\\programs\\python\\python312\\lib\\site-packages (from matplotlib) (1.1.1)\n",
      "Requirement already satisfied: cycler>=0.10 in c:\\users\\hasnat\\appdata\\local\\programs\\python\\python312\\lib\\site-packages (from matplotlib) (0.12.1)\n",
      "Requirement already satisfied: fonttools>=4.22.0 in c:\\users\\hasnat\\appdata\\local\\programs\\python\\python312\\lib\\site-packages (from matplotlib) (4.43.1)\n",
      "Requirement already satisfied: kiwisolver>=1.0.1 in c:\\users\\hasnat\\appdata\\local\\programs\\python\\python312\\lib\\site-packages (from matplotlib) (1.4.5)\n",
      "Requirement already satisfied: numpy<2,>=1.21 in c:\\users\\hasnat\\appdata\\local\\programs\\python\\python312\\lib\\site-packages (from matplotlib) (1.26.1)\n",
      "Requirement already satisfied: packaging>=20.0 in c:\\users\\hasnat\\appdata\\roaming\\python\\python312\\site-packages (from matplotlib) (23.2)\n",
      "Requirement already satisfied: pillow>=6.2.0 in c:\\users\\hasnat\\appdata\\local\\programs\\python\\python312\\lib\\site-packages (from matplotlib) (10.1.0)\n",
      "Requirement already satisfied: pyparsing>=2.3.1 in c:\\users\\hasnat\\appdata\\local\\programs\\python\\python312\\lib\\site-packages (from matplotlib) (3.1.1)\n",
      "Requirement already satisfied: python-dateutil>=2.7 in c:\\users\\hasnat\\appdata\\roaming\\python\\python312\\site-packages (from matplotlib) (2.8.2)\n",
      "Requirement already satisfied: six>=1.5 in c:\\users\\hasnat\\appdata\\roaming\\python\\python312\\site-packages (from python-dateutil>=2.7->matplotlib) (1.16.0)\n",
      "Note: you may need to restart the kernel to use updated packages.\n"
     ]
    },
    {
     "name": "stderr",
     "output_type": "stream",
     "text": [
      "\n",
      "[notice] A new release of pip is available: 23.2.1 -> 23.3.1\n",
      "[notice] To update, run: python.exe -m pip install --upgrade pip\n"
     ]
    }
   ],
   "source": [
    "pip install matplotlib"
   ]
  },
  {
   "cell_type": "markdown",
   "metadata": {},
   "source": [
    "# install lib"
   ]
  },
  {
   "cell_type": "code",
   "execution_count": null,
   "metadata": {},
   "outputs": [
    {
     "name": "stdout",
     "output_type": "stream",
     "text": [
      "Collecting seaborn\n",
      "  Obtaining dependency information for seaborn from https://files.pythonhosted.org/packages/7b/e5/83fcd7e9db036c179e0352bfcd20f81d728197a16f883e7b90307a88e65e/seaborn-0.13.0-py3-none-any.whl.metadata\n",
      "  Downloading seaborn-0.13.0-py3-none-any.whl.metadata (5.3 kB)\n",
      "Requirement already satisfied: numpy!=1.24.0,>=1.20 in c:\\users\\hasnat\\appdata\\local\\programs\\python\\python312\\lib\\site-packages (from seaborn) (1.26.1)\n",
      "Requirement already satisfied: pandas>=1.2 in c:\\users\\hasnat\\appdata\\local\\programs\\python\\python312\\lib\\site-packages (from seaborn) (2.1.1)\n",
      "Collecting matplotlib!=3.6.1,>=3.3 (from seaborn)\n",
      "  Obtaining dependency information for matplotlib!=3.6.1,>=3.3 from https://files.pythonhosted.org/packages/59/c7/f8da659997fe3210fdda689cf2d7720b3a079578fb8aecc3623c4e091a77/matplotlib-3.8.0-cp312-cp312-win_amd64.whl.metadata\n",
      "  Downloading matplotlib-3.8.0-cp312-cp312-win_amd64.whl.metadata (5.9 kB)\n",
      "Collecting contourpy>=1.0.1 (from matplotlib!=3.6.1,>=3.3->seaborn)\n",
      "  Obtaining dependency information for contourpy>=1.0.1 from https://files.pythonhosted.org/packages/75/d4/c3b7a9a0d1f99b528e5a46266b0b9f13aad5a0dd1156d071418df314c427/contourpy-1.1.1-cp312-cp312-win_amd64.whl.metadata\n",
      "  Downloading contourpy-1.1.1-cp312-cp312-win_amd64.whl.metadata (5.9 kB)\n",
      "Collecting cycler>=0.10 (from matplotlib!=3.6.1,>=3.3->seaborn)\n",
      "  Obtaining dependency information for cycler>=0.10 from https://files.pythonhosted.org/packages/e7/05/c19819d5e3d95294a6f5947fb9b9629efb316b96de511b418c53d245aae6/cycler-0.12.1-py3-none-any.whl.metadata\n",
      "  Downloading cycler-0.12.1-py3-none-any.whl.metadata (3.8 kB)\n",
      "Collecting fonttools>=4.22.0 (from matplotlib!=3.6.1,>=3.3->seaborn)\n",
      "  Obtaining dependency information for fonttools>=4.22.0 from https://files.pythonhosted.org/packages/24/01/9bb5e115206b5c7f7894978f9af57a3d17c94fbc0df913389f1eaf334a68/fonttools-4.43.1-cp312-cp312-win_amd64.whl.metadata\n",
      "  Downloading fonttools-4.43.1-cp312-cp312-win_amd64.whl.metadata (155 kB)\n",
      "     ---------------------------------------- 0.0/155.5 kB ? eta -:--:--\n",
      "     -- ------------------------------------- 10.2/155.5 kB ? eta -:--:--\n",
      "     -- ------------------------------------- 10.2/155.5 kB ? eta -:--:--\n",
      "     --------- --------------------------- 41.0/155.5 kB 279.3 kB/s eta 0:00:01\n",
      "     -------------- ---------------------- 61.4/155.5 kB 409.6 kB/s eta 0:00:01\n",
      "     ----------------- ------------------- 71.7/155.5 kB 357.2 kB/s eta 0:00:01\n",
      "     --------------------- --------------- 92.2/155.5 kB 348.6 kB/s eta 0:00:01\n",
      "     -----------------------------------  153.6/155.5 kB 482.7 kB/s eta 0:00:01\n",
      "     ------------------------------------ 155.5/155.5 kB 489.2 kB/s eta 0:00:00\n",
      "Collecting kiwisolver>=1.0.1 (from matplotlib!=3.6.1,>=3.3->seaborn)\n",
      "  Obtaining dependency information for kiwisolver>=1.0.1 from https://files.pythonhosted.org/packages/63/50/2746566bdf4a6a842d117367d05c90cfb87ac04e9e2845aa1fa21f071362/kiwisolver-1.4.5-cp312-cp312-win_amd64.whl.metadata\n",
      "  Downloading kiwisolver-1.4.5-cp312-cp312-win_amd64.whl.metadata (6.5 kB)\n",
      "Requirement already satisfied: packaging>=20.0 in c:\\users\\hasnat\\appdata\\roaming\\python\\python312\\site-packages (from matplotlib!=3.6.1,>=3.3->seaborn) (23.2)\n",
      "Collecting pillow>=6.2.0 (from matplotlib!=3.6.1,>=3.3->seaborn)\n",
      "  Obtaining dependency information for pillow>=6.2.0 from https://files.pythonhosted.org/packages/32/e4/978865107d097dd9cb650331676d8dc29ed9fcd0aaab46486e9d6e5123f0/Pillow-10.1.0-cp312-cp312-win_amd64.whl.metadata\n",
      "  Downloading Pillow-10.1.0-cp312-cp312-win_amd64.whl.metadata (9.6 kB)\n",
      "Collecting pyparsing>=2.3.1 (from matplotlib!=3.6.1,>=3.3->seaborn)\n",
      "  Obtaining dependency information for pyparsing>=2.3.1 from https://files.pythonhosted.org/packages/39/92/8486ede85fcc088f1b3dba4ce92dd29d126fd96b0008ea213167940a2475/pyparsing-3.1.1-py3-none-any.whl.metadata\n",
      "  Downloading pyparsing-3.1.1-py3-none-any.whl.metadata (5.1 kB)\n",
      "Requirement already satisfied: python-dateutil>=2.7 in c:\\users\\hasnat\\appdata\\roaming\\python\\python312\\site-packages (from matplotlib!=3.6.1,>=3.3->seaborn) (2.8.2)\n",
      "Requirement already satisfied: pytz>=2020.1 in c:\\users\\hasnat\\appdata\\local\\programs\\python\\python312\\lib\\site-packages (from pandas>=1.2->seaborn) (2023.3.post1)\n",
      "Requirement already satisfied: tzdata>=2022.1 in c:\\users\\hasnat\\appdata\\local\\programs\\python\\python312\\lib\\site-packages (from pandas>=1.2->seaborn) (2023.3)\n",
      "Requirement already satisfied: six>=1.5 in c:\\users\\hasnat\\appdata\\roaming\\python\\python312\\site-packages (from python-dateutil>=2.7->matplotlib!=3.6.1,>=3.3->seaborn) (1.16.0)\n",
      "Downloading seaborn-0.13.0-py3-none-any.whl (294 kB)\n",
      "   ---------------------------------------- 0.0/294.6 kB ? eta -:--:--\n",
      "   - -------------------------------------- 10.2/294.6 kB ? eta -:--:--\n",
      "   -------- ------------------------------ 61.4/294.6 kB 825.8 kB/s eta 0:00:01\n",
      "   ------------ -------------------------- 92.2/294.6 kB 871.5 kB/s eta 0:00:01\n",
      "   ------------ -------------------------- 92.2/294.6 kB 871.5 kB/s eta 0:00:01\n",
      "   ------------ -------------------------- 92.2/294.6 kB 871.5 kB/s eta 0:00:01\n",
      "   ------------ -------------------------- 92.2/294.6 kB 871.5 kB/s eta 0:00:01\n",
      "   ------------ -------------------------- 92.2/294.6 kB 871.5 kB/s eta 0:00:01\n",
      "   ------------ -------------------------- 92.2/294.6 kB 871.5 kB/s eta 0:00:01\n",
      "   ------------ -------------------------- 92.2/294.6 kB 871.5 kB/s eta 0:00:01\n",
      "   ----------------------------- -------- 225.3/294.6 kB 509.6 kB/s eta 0:00:01\n",
      "   ----------------------------- -------- 225.3/294.6 kB 509.6 kB/s eta 0:00:01\n",
      "   ------------------------------ ------- 235.5/294.6 kB 424.3 kB/s eta 0:00:01\n",
      "   ----------------------------------- -- 276.5/294.6 kB 448.2 kB/s eta 0:00:01\n",
      "   ----------------------------------- -- 276.5/294.6 kB 448.2 kB/s eta 0:00:01\n",
      "   -------------------------------------- 294.6/294.6 kB 433.4 kB/s eta 0:00:00\n",
      "Downloading matplotlib-3.8.0-cp312-cp312-win_amd64.whl (7.6 MB)\n",
      "   ---------------------------------------- 0.0/7.6 MB ? eta -:--:--\n",
      "   ---------------------------------------- 0.0/7.6 MB ? eta -:--:--\n",
      "   ---------------------------------------- 0.0/7.6 MB 1.3 MB/s eta 0:00:06\n",
      "   ---------------------------------------- 0.1/7.6 MB 648.1 kB/s eta 0:00:12\n",
      "   ---------------------------------------- 0.1/7.6 MB 581.0 kB/s eta 0:00:13\n",
      "   ---------------------------------------- 0.1/7.6 MB 581.0 kB/s eta 0:00:13\n",
      "   ---------------------------------------- 0.1/7.6 MB 581.0 kB/s eta 0:00:13\n",
      "   ---------------------------------------- 0.1/7.6 MB 581.0 kB/s eta 0:00:13\n",
      "   ---------------------------------------- 0.1/7.6 MB 581.0 kB/s eta 0:00:13\n",
      "   ---------------------------------------- 0.1/7.6 MB 581.0 kB/s eta 0:00:13\n",
      "   ---------------------------------------- 0.1/7.6 MB 581.0 kB/s eta 0:00:13\n",
      "   - -------------------------------------- 0.2/7.6 MB 514.3 kB/s eta 0:00:15\n",
      "   - -------------------------------------- 0.3/7.6 MB 491.5 kB/s eta 0:00:16\n",
      "   - -------------------------------------- 0.3/7.6 MB 491.5 kB/s eta 0:00:16\n",
      "   - -------------------------------------- 0.3/7.6 MB 477.5 kB/s eta 0:00:16\n",
      "   - -------------------------------------- 0.3/7.6 MB 475.1 kB/s eta 0:00:16\n",
      "   - -------------------------------------- 0.3/7.6 MB 461.4 kB/s eta 0:00:16\n",
      "   - -------------------------------------- 0.4/7.6 MB 484.2 kB/s eta 0:00:16\n",
      "   - -------------------------------------- 0.4/7.6 MB 481.3 kB/s eta 0:00:16\n",
      "   - -------------------------------------- 0.4/7.6 MB 481.3 kB/s eta 0:00:16\n",
      "   -- ------------------------------------- 0.4/7.6 MB 456.4 kB/s eta 0:00:16\n",
      "   -- ------------------------------------- 0.4/7.6 MB 444.3 kB/s eta 0:00:17\n",
      "   -- ------------------------------------- 0.4/7.6 MB 450.8 kB/s eta 0:00:16\n",
      "   -- ------------------------------------- 0.5/7.6 MB 443.5 kB/s eta 0:00:17\n",
      "   -- ------------------------------------- 0.5/7.6 MB 433.5 kB/s eta 0:00:17\n",
      "   -- ------------------------------------- 0.5/7.6 MB 433.5 kB/s eta 0:00:17\n",
      "   -- ------------------------------------- 0.5/7.6 MB 433.5 kB/s eta 0:00:17\n",
      "   -- ------------------------------------- 0.5/7.6 MB 433.5 kB/s eta 0:00:17\n",
      "   -- ------------------------------------- 0.5/7.6 MB 433.5 kB/s eta 0:00:17\n",
      "   --- ------------------------------------ 0.6/7.6 MB 434.2 kB/s eta 0:00:17\n",
      "   --- ------------------------------------ 0.6/7.6 MB 426.7 kB/s eta 0:00:17\n",
      "   --- ------------------------------------ 0.6/7.6 MB 431.9 kB/s eta 0:00:17\n",
      "   --- ------------------------------------ 0.6/7.6 MB 431.9 kB/s eta 0:00:17\n",
      "   --- ------------------------------------ 0.6/7.6 MB 413.7 kB/s eta 0:00:17\n",
      "   --- ------------------------------------ 0.6/7.6 MB 412.0 kB/s eta 0:00:18\n",
      "   --- ------------------------------------ 0.7/7.6 MB 412.7 kB/s eta 0:00:17\n",
      "   --- ------------------------------------ 0.7/7.6 MB 411.1 kB/s eta 0:00:17\n",
      "   --- ------------------------------------ 0.7/7.6 MB 407.9 kB/s eta 0:00:18\n",
      "   --- ------------------------------------ 0.7/7.6 MB 407.9 kB/s eta 0:00:18\n",
      "   --- ------------------------------------ 0.7/7.6 MB 401.3 kB/s eta 0:00:18\n",
      "   --- ------------------------------------ 0.7/7.6 MB 401.0 kB/s eta 0:00:18\n",
      "   --- ------------------------------------ 0.7/7.6 MB 401.0 kB/s eta 0:00:18\n",
      "   ---- ----------------------------------- 0.8/7.6 MB 397.4 kB/s eta 0:00:18\n",
      "   ---- ----------------------------------- 0.8/7.6 MB 397.4 kB/s eta 0:00:18\n",
      "   ---- ----------------------------------- 0.8/7.6 MB 397.2 kB/s eta 0:00:18\n",
      "   ---- ----------------------------------- 0.8/7.6 MB 403.1 kB/s eta 0:00:17\n",
      "   ---- ----------------------------------- 0.9/7.6 MB 413.7 kB/s eta 0:00:17\n",
      "   ---- ----------------------------------- 0.9/7.6 MB 411.3 kB/s eta 0:00:17\n",
      "   ---- ----------------------------------- 0.9/7.6 MB 414.9 kB/s eta 0:00:17\n",
      "   ---- ----------------------------------- 0.9/7.6 MB 419.9 kB/s eta 0:00:16\n",
      "   ----- ---------------------------------- 1.0/7.6 MB 428.0 kB/s eta 0:00:16\n",
      "   ----- ---------------------------------- 1.0/7.6 MB 433.9 kB/s eta 0:00:16\n",
      "   ----- ---------------------------------- 1.1/7.6 MB 439.8 kB/s eta 0:00:15\n",
      "   ----- ---------------------------------- 1.1/7.6 MB 448.2 kB/s eta 0:00:15\n",
      "   ----- ---------------------------------- 1.1/7.6 MB 452.1 kB/s eta 0:00:15\n",
      "   ------ --------------------------------- 1.2/7.6 MB 457.0 kB/s eta 0:00:15\n",
      "   ------ --------------------------------- 1.2/7.6 MB 464.6 kB/s eta 0:00:14\n",
      "   ------ --------------------------------- 1.2/7.6 MB 470.8 kB/s eta 0:00:14\n",
      "   ------ --------------------------------- 1.3/7.6 MB 474.0 kB/s eta 0:00:14\n",
      "   ------ --------------------------------- 1.3/7.6 MB 482.1 kB/s eta 0:00:14\n",
      "   ------- -------------------------------- 1.4/7.6 MB 485.0 kB/s eta 0:00:13\n",
      "   ------- -------------------------------- 1.4/7.6 MB 495.9 kB/s eta 0:00:13\n",
      "   ------- -------------------------------- 1.5/7.6 MB 499.4 kB/s eta 0:00:13\n",
      "   -------- ------------------------------- 1.5/7.6 MB 508.6 kB/s eta 0:00:13\n",
      "   -------- ------------------------------- 1.6/7.6 MB 514.8 kB/s eta 0:00:12\n",
      "   -------- ------------------------------- 1.6/7.6 MB 521.0 kB/s eta 0:00:12\n",
      "   -------- ------------------------------- 1.7/7.6 MB 525.5 kB/s eta 0:00:12\n",
      "   --------- ------------------------------ 1.7/7.6 MB 529.3 kB/s eta 0:00:12\n",
      "   --------- ------------------------------ 1.8/7.6 MB 535.9 kB/s eta 0:00:11\n",
      "   --------- ------------------------------ 1.8/7.6 MB 537.5 kB/s eta 0:00:11\n",
      "   --------- ------------------------------ 1.9/7.6 MB 545.1 kB/s eta 0:00:11\n",
      "   ---------- ----------------------------- 1.9/7.6 MB 546.5 kB/s eta 0:00:11\n",
      "   ---------- ----------------------------- 1.9/7.6 MB 547.5 kB/s eta 0:00:11\n",
      "   ---------- ----------------------------- 2.0/7.6 MB 546.5 kB/s eta 0:00:11\n",
      "   ---------- ----------------------------- 2.0/7.6 MB 553.7 kB/s eta 0:00:11\n",
      "   ---------- ----------------------------- 2.0/7.6 MB 549.4 kB/s eta 0:00:11\n",
      "   ---------- ----------------------------- 2.1/7.6 MB 549.3 kB/s eta 0:00:11\n",
      "   ----------- ---------------------------- 2.1/7.6 MB 552.9 kB/s eta 0:00:11\n",
      "   ----------- ---------------------------- 2.2/7.6 MB 553.5 kB/s eta 0:00:10\n",
      "   ----------- ---------------------------- 2.2/7.6 MB 555.0 kB/s eta 0:00:10\n",
      "   ----------- ---------------------------- 2.3/7.6 MB 558.7 kB/s eta 0:00:10\n",
      "   ------------ --------------------------- 2.3/7.6 MB 560.3 kB/s eta 0:00:10\n",
      "   ------------ --------------------------- 2.3/7.6 MB 561.3 kB/s eta 0:00:10\n",
      "   ------------ --------------------------- 2.4/7.6 MB 565.1 kB/s eta 0:00:10\n",
      "   ------------ --------------------------- 2.4/7.6 MB 564.1 kB/s eta 0:00:10\n",
      "   ------------ --------------------------- 2.4/7.6 MB 564.4 kB/s eta 0:00:10\n",
      "   ------------- -------------------------- 2.5/7.6 MB 566.4 kB/s eta 0:00:10\n",
      "   ------------- -------------------------- 2.5/7.6 MB 567.3 kB/s eta 0:00:10\n",
      "   ------------- -------------------------- 2.6/7.6 MB 570.5 kB/s eta 0:00:09\n",
      "   ------------- -------------------------- 2.6/7.6 MB 569.4 kB/s eta 0:00:09\n",
      "   ------------- -------------------------- 2.6/7.6 MB 569.8 kB/s eta 0:00:09\n",
      "   ------------- -------------------------- 2.7/7.6 MB 571.2 kB/s eta 0:00:09\n",
      "   -------------- ------------------------- 2.7/7.6 MB 574.7 kB/s eta 0:00:09\n",
      "   -------------- ------------------------- 2.8/7.6 MB 578.0 kB/s eta 0:00:09\n",
      "   -------------- ------------------------- 2.8/7.6 MB 581.0 kB/s eta 0:00:09\n",
      "   -------------- ------------------------- 2.9/7.6 MB 582.0 kB/s eta 0:00:09\n",
      "   --------------- ------------------------ 2.9/7.6 MB 585.0 kB/s eta 0:00:09\n",
      "   --------------- ------------------------ 3.0/7.6 MB 589.8 kB/s eta 0:00:08\n",
      "   --------------- ------------------------ 3.0/7.6 MB 590.4 kB/s eta 0:00:08\n",
      "   --------------- ------------------------ 3.0/7.6 MB 593.0 kB/s eta 0:00:08\n",
      "   ---------------- ----------------------- 3.1/7.6 MB 596.1 kB/s eta 0:00:08\n",
      "   ---------------- ----------------------- 3.2/7.6 MB 600.5 kB/s eta 0:00:08\n",
      "   ---------------- ----------------------- 3.2/7.6 MB 601.2 kB/s eta 0:00:08\n",
      "   ---------------- ----------------------- 3.2/7.6 MB 603.7 kB/s eta 0:00:08\n",
      "   ----------------- ---------------------- 3.3/7.6 MB 606.2 kB/s eta 0:00:08\n",
      "   ----------------- ---------------------- 3.3/7.6 MB 610.4 kB/s eta 0:00:08\n",
      "   ----------------- ---------------------- 3.4/7.6 MB 614.8 kB/s eta 0:00:07\n",
      "   ------------------ --------------------- 3.5/7.6 MB 615.1 kB/s eta 0:00:07\n",
      "   ------------------ --------------------- 3.5/7.6 MB 617.3 kB/s eta 0:00:07\n",
      "   ------------------ --------------------- 3.5/7.6 MB 621.1 kB/s eta 0:00:07\n",
      "   ------------------ --------------------- 3.6/7.6 MB 619.7 kB/s eta 0:00:07\n",
      "   ------------------ --------------------- 3.6/7.6 MB 620.0 kB/s eta 0:00:07\n",
      "   ------------------- -------------------- 3.7/7.6 MB 623.8 kB/s eta 0:00:07\n",
      "   ------------------- -------------------- 3.7/7.6 MB 624.0 kB/s eta 0:00:07\n",
      "   ------------------- -------------------- 3.7/7.6 MB 620.8 kB/s eta 0:00:07\n",
      "   ------------------- -------------------- 3.7/7.6 MB 617.6 kB/s eta 0:00:07\n",
      "   ------------------- -------------------- 3.7/7.6 MB 616.2 kB/s eta 0:00:07\n",
      "   ------------------- -------------------- 3.8/7.6 MB 613.6 kB/s eta 0:00:07\n",
      "   ------------------- -------------------- 3.8/7.6 MB 613.6 kB/s eta 0:00:07\n",
      "   ------------------- -------------------- 3.8/7.6 MB 609.1 kB/s eta 0:00:07\n",
      "   ------------------- -------------------- 3.8/7.6 MB 609.1 kB/s eta 0:00:07\n",
      "   ------------------- -------------------- 3.8/7.6 MB 609.1 kB/s eta 0:00:07\n",
      "   ------------------- -------------------- 3.8/7.6 MB 609.1 kB/s eta 0:00:07\n",
      "   ------------------- -------------------- 3.8/7.6 MB 609.1 kB/s eta 0:00:07\n",
      "   -------------------- ------------------- 3.9/7.6 MB 601.3 kB/s eta 0:00:07\n",
      "   -------------------- ------------------- 3.9/7.6 MB 598.8 kB/s eta 0:00:07\n",
      "   -------------------- ------------------- 3.9/7.6 MB 594.8 kB/s eta 0:00:07\n",
      "   -------------------- ------------------- 3.9/7.6 MB 594.8 kB/s eta 0:00:07\n",
      "   -------------------- ------------------- 4.0/7.6 MB 590.9 kB/s eta 0:00:07\n",
      "   -------------------- ------------------- 4.0/7.6 MB 588.4 kB/s eta 0:00:07\n",
      "   -------------------- ------------------- 4.0/7.6 MB 585.8 kB/s eta 0:00:07\n",
      "   --------------------- ------------------ 4.0/7.6 MB 585.0 kB/s eta 0:00:07\n",
      "   --------------------- ------------------ 4.1/7.6 MB 588.3 kB/s eta 0:00:07\n",
      "   --------------------- ------------------ 4.1/7.6 MB 585.8 kB/s eta 0:00:07\n",
      "   --------------------- ------------------ 4.1/7.6 MB 584.8 kB/s eta 0:00:07\n",
      "   --------------------- ------------------ 4.1/7.6 MB 583.9 kB/s eta 0:00:07\n",
      "   --------------------- ------------------ 4.1/7.6 MB 585.7 kB/s eta 0:00:06\n",
      "   --------------------- ------------------ 4.2/7.6 MB 586.2 kB/s eta 0:00:06\n",
      "   ---------------------- ----------------- 4.2/7.6 MB 588.0 kB/s eta 0:00:06\n",
      "   ---------------------- ----------------- 4.2/7.6 MB 588.5 kB/s eta 0:00:06\n",
      "   ---------------------- ----------------- 4.3/7.6 MB 589.0 kB/s eta 0:00:06\n",
      "   ---------------------- ----------------- 4.3/7.6 MB 589.4 kB/s eta 0:00:06\n",
      "   ---------------------- ----------------- 4.3/7.6 MB 591.0 kB/s eta 0:00:06\n",
      "   ---------------------- ----------------- 4.4/7.6 MB 592.9 kB/s eta 0:00:06\n",
      "   ----------------------- ---------------- 4.4/7.6 MB 593.4 kB/s eta 0:00:06\n",
      "   ----------------------- ---------------- 4.5/7.6 MB 595.1 kB/s eta 0:00:06\n",
      "   ----------------------- ---------------- 4.5/7.6 MB 596.7 kB/s eta 0:00:06\n",
      "   ----------------------- ---------------- 4.5/7.6 MB 597.2 kB/s eta 0:00:06\n",
      "   ----------------------- ---------------- 4.6/7.6 MB 597.6 kB/s eta 0:00:06\n",
      "   ------------------------ --------------- 4.6/7.6 MB 600.6 kB/s eta 0:00:06\n",
      "   ------------------------ --------------- 4.6/7.6 MB 600.9 kB/s eta 0:00:05\n",
      "   ------------------------ --------------- 4.7/7.6 MB 601.3 kB/s eta 0:00:05\n",
      "   ------------------------ --------------- 4.7/7.6 MB 602.8 kB/s eta 0:00:05\n",
      "   ------------------------ --------------- 4.8/7.6 MB 604.5 kB/s eta 0:00:05\n",
      "   ------------------------- -------------- 4.8/7.6 MB 606.1 kB/s eta 0:00:05\n",
      "   ------------------------- -------------- 4.9/7.6 MB 607.8 kB/s eta 0:00:05\n",
      "   ------------------------- -------------- 4.9/7.6 MB 608.1 kB/s eta 0:00:05\n",
      "   ------------------------- -------------- 4.9/7.6 MB 609.6 kB/s eta 0:00:05\n",
      "   ------------------------- -------------- 5.0/7.6 MB 611.1 kB/s eta 0:00:05\n",
      "   -------------------------- ------------- 5.0/7.6 MB 613.8 kB/s eta 0:00:05\n",
      "   -------------------------- ------------- 5.0/7.6 MB 614.1 kB/s eta 0:00:05\n",
      "   -------------------------- ------------- 5.1/7.6 MB 616.9 kB/s eta 0:00:05\n",
      "   -------------------------- ------------- 5.1/7.6 MB 617.1 kB/s eta 0:00:05\n",
      "   --------------------------- ------------ 5.2/7.6 MB 617.3 kB/s eta 0:00:05\n",
      "   --------------------------- ------------ 5.2/7.6 MB 619.9 kB/s eta 0:00:04\n",
      "   --------------------------- ------------ 5.2/7.6 MB 620.1 kB/s eta 0:00:04\n",
      "   --------------------------- ------------ 5.3/7.6 MB 622.7 kB/s eta 0:00:04\n",
      "   --------------------------- ------------ 5.3/7.6 MB 624.1 kB/s eta 0:00:04\n",
      "   ---------------------------- ----------- 5.4/7.6 MB 625.5 kB/s eta 0:00:04\n",
      "   ---------------------------- ----------- 5.4/7.6 MB 625.7 kB/s eta 0:00:04\n",
      "   ---------------------------- ----------- 5.4/7.6 MB 626.9 kB/s eta 0:00:04\n",
      "   ---------------------------- ----------- 5.5/7.6 MB 628.3 kB/s eta 0:00:04\n",
      "   ---------------------------- ----------- 5.5/7.6 MB 630.8 kB/s eta 0:00:04\n",
      "   ----------------------------- ---------- 5.6/7.6 MB 632.1 kB/s eta 0:00:04\n",
      "   ----------------------------- ---------- 5.6/7.6 MB 633.4 kB/s eta 0:00:04\n",
      "   ----------------------------- ---------- 5.7/7.6 MB 633.5 kB/s eta 0:00:04\n",
      "   ----------------------------- ---------- 5.7/7.6 MB 635.9 kB/s eta 0:00:04\n",
      "   ------------------------------ --------- 5.7/7.6 MB 637.1 kB/s eta 0:00:03\n",
      "   ------------------------------ --------- 5.8/7.6 MB 638.4 kB/s eta 0:00:03\n",
      "   ------------------------------ --------- 5.8/7.6 MB 639.5 kB/s eta 0:00:03\n",
      "   ------------------------------ --------- 5.9/7.6 MB 640.8 kB/s eta 0:00:03\n",
      "   ------------------------------ --------- 5.9/7.6 MB 642.0 kB/s eta 0:00:03\n",
      "   ------------------------------- -------- 5.9/7.6 MB 643.1 kB/s eta 0:00:03\n",
      "   ------------------------------- -------- 6.0/7.6 MB 644.3 kB/s eta 0:00:03\n",
      "   ------------------------------- -------- 6.0/7.6 MB 645.4 kB/s eta 0:00:03\n",
      "   ------------------------------- -------- 6.1/7.6 MB 646.6 kB/s eta 0:00:03\n",
      "   ------------------------------- -------- 6.1/7.6 MB 648.8 kB/s eta 0:00:03\n",
      "   -------------------------------- ------- 6.1/7.6 MB 648.8 kB/s eta 0:00:03\n",
      "   -------------------------------- ------- 6.2/7.6 MB 650.0 kB/s eta 0:00:03\n",
      "   -------------------------------- ------- 6.2/7.6 MB 651.1 kB/s eta 0:00:03\n",
      "   -------------------------------- ------- 6.3/7.6 MB 652.1 kB/s eta 0:00:03\n",
      "   --------------------------------- ------ 6.3/7.6 MB 653.2 kB/s eta 0:00:03\n",
      "   --------------------------------- ------ 6.4/7.6 MB 655.3 kB/s eta 0:00:02\n",
      "   --------------------------------- ------ 6.4/7.6 MB 656.4 kB/s eta 0:00:02\n",
      "   --------------------------------- ------ 6.4/7.6 MB 656.4 kB/s eta 0:00:02\n",
      "   --------------------------------- ------ 6.5/7.6 MB 657.4 kB/s eta 0:00:02\n",
      "   ---------------------------------- ----- 6.5/7.6 MB 658.4 kB/s eta 0:00:02\n",
      "   ---------------------------------- ----- 6.6/7.6 MB 660.5 kB/s eta 0:00:02\n",
      "   ---------------------------------- ----- 6.6/7.6 MB 661.5 kB/s eta 0:00:02\n",
      "   ---------------------------------- ----- 6.6/7.6 MB 662.5 kB/s eta 0:00:02\n",
      "   ----------------------------------- ---- 6.7/7.6 MB 663.4 kB/s eta 0:00:02\n",
      "   ----------------------------------- ---- 6.7/7.6 MB 664.4 kB/s eta 0:00:02\n",
      "   ----------------------------------- ---- 6.8/7.6 MB 665.4 kB/s eta 0:00:02\n",
      "   ----------------------------------- ---- 6.8/7.6 MB 666.3 kB/s eta 0:00:02\n",
      "   ----------------------------------- ---- 6.9/7.6 MB 668.3 kB/s eta 0:00:02\n",
      "   ------------------------------------ --- 6.9/7.6 MB 668.3 kB/s eta 0:00:02\n",
      "   ------------------------------------ --- 6.9/7.6 MB 670.2 kB/s eta 0:00:02\n",
      "   ------------------------------------ --- 7.0/7.6 MB 670.1 kB/s eta 0:00:02\n",
      "   ------------------------------------ --- 7.0/7.6 MB 672.0 kB/s eta 0:00:01\n",
      "   ------------------------------------ --- 7.1/7.6 MB 671.9 kB/s eta 0:00:01\n",
      "   ------------------------------------- -- 7.1/7.6 MB 673.8 kB/s eta 0:00:01\n",
      "   ------------------------------------- -- 7.1/7.6 MB 673.7 kB/s eta 0:00:01\n",
      "   ------------------------------------- -- 7.2/7.6 MB 675.6 kB/s eta 0:00:01\n",
      "   ------------------------------------- -- 7.2/7.6 MB 675.5 kB/s eta 0:00:01\n",
      "   -------------------------------------- - 7.3/7.6 MB 677.3 kB/s eta 0:00:01\n",
      "   -------------------------------------- - 7.3/7.6 MB 678.2 kB/s eta 0:00:01\n",
      "   -------------------------------------- - 7.4/7.6 MB 679.0 kB/s eta 0:00:01\n",
      "   -------------------------------------- - 7.4/7.6 MB 679.8 kB/s eta 0:00:01\n",
      "   -------------------------------------- - 7.4/7.6 MB 680.7 kB/s eta 0:00:01\n",
      "   ---------------------------------------  7.5/7.6 MB 680.5 kB/s eta 0:00:01\n",
      "   ---------------------------------------  7.5/7.6 MB 682.4 kB/s eta 0:00:01\n",
      "   ---------------------------------------  7.5/7.6 MB 682.2 kB/s eta 0:00:01\n",
      "   ---------------------------------------  7.6/7.6 MB 683.9 kB/s eta 0:00:01\n",
      "   ---------------------------------------  7.6/7.6 MB 684.8 kB/s eta 0:00:01\n",
      "   ---------------------------------------- 7.6/7.6 MB 681.4 kB/s eta 0:00:00\n",
      "Downloading contourpy-1.1.1-cp312-cp312-win_amd64.whl (486 kB)\n",
      "   ---------------------------------------- 0.0/486.7 kB ? eta -:--:--\n",
      "   --- ----------------------------------- 41.0/486.7 kB 991.0 kB/s eta 0:00:01\n",
      "   ------- -------------------------------- 92.2/486.7 kB 1.1 MB/s eta 0:00:01\n",
      "   --------- ---------------------------- 122.9/486.7 kB 804.6 kB/s eta 0:00:01\n",
      "   ------------- ------------------------ 174.1/486.7 kB 958.1 kB/s eta 0:00:01\n",
      "   --------------- ---------------------- 194.6/486.7 kB 985.7 kB/s eta 0:00:01\n",
      "   ------------------- ------------------ 256.0/486.7 kB 874.6 kB/s eta 0:00:01\n",
      "   ---------------------- --------------- 286.7/486.7 kB 886.2 kB/s eta 0:00:01\n",
      "   ------------------------- ------------ 327.7/486.7 kB 884.2 kB/s eta 0:00:01\n",
      "   ---------------------------- --------- 368.6/486.7 kB 882.8 kB/s eta 0:00:01\n",
      "   ------------------------------- ------ 409.6/486.7 kB 881.6 kB/s eta 0:00:01\n",
      "   ----------------------------------- -- 450.6/486.7 kB 880.6 kB/s eta 0:00:01\n",
      "   -------------------------------------- 486.7/486.7 kB 897.2 kB/s eta 0:00:00\n",
      "Downloading cycler-0.12.1-py3-none-any.whl (8.3 kB)\n",
      "Downloading fonttools-4.43.1-cp312-cp312-win_amd64.whl (2.1 MB)\n",
      "   ---------------------------------------- 0.0/2.1 MB ? eta -:--:--\n",
      "    --------------------------------------- 0.0/2.1 MB 960.0 kB/s eta 0:00:03\n",
      "   - -------------------------------------- 0.1/2.1 MB 1.0 MB/s eta 0:00:02\n",
      "   -- ------------------------------------- 0.1/2.1 MB 901.1 kB/s eta 0:00:03\n",
      "   --- ------------------------------------ 0.2/2.1 MB 952.6 kB/s eta 0:00:03\n",
      "   --- ------------------------------------ 0.2/2.1 MB 888.4 kB/s eta 0:00:03\n",
      "   ---- ----------------------------------- 0.3/2.1 MB 923.9 kB/s eta 0:00:03\n",
      "   ----- ---------------------------------- 0.3/2.1 MB 930.9 kB/s eta 0:00:02\n",
      "   ------ --------------------------------- 0.3/2.1 MB 910.2 kB/s eta 0:00:02\n",
      "   ------- -------------------------------- 0.4/2.1 MB 930.9 kB/s eta 0:00:02\n",
      "   ------- -------------------------------- 0.4/2.1 MB 902.2 kB/s eta 0:00:02\n",
      "   -------- ------------------------------- 0.5/2.1 MB 921.6 kB/s eta 0:00:02\n",
      "   --------- ------------------------------ 0.5/2.1 MB 923.9 kB/s eta 0:00:02\n",
      "   ---------- ----------------------------- 0.6/2.1 MB 913.7 kB/s eta 0:00:02\n",
      "   ---------- ----------------------------- 0.6/2.1 MB 917.5 kB/s eta 0:00:02\n",
      "   ----------- ---------------------------- 0.6/2.1 MB 907.9 kB/s eta 0:00:02\n",
      "   ------------ --------------------------- 0.7/2.1 MB 905.6 kB/s eta 0:00:02\n",
      "   ------------- -------------------------- 0.7/2.1 MB 890.4 kB/s eta 0:00:02\n",
      "   -------------- ------------------------- 0.7/2.1 MB 906.9 kB/s eta 0:00:02\n",
      "   -------------- ------------------------- 0.8/2.1 MB 916.8 kB/s eta 0:00:02\n",
      "   --------------- ------------------------ 0.8/2.1 MB 903.2 kB/s eta 0:00:02\n",
      "   ---------------- ----------------------- 0.9/2.1 MB 912.4 kB/s eta 0:00:02\n",
      "   ---------------- ----------------------- 0.9/2.1 MB 919.4 kB/s eta 0:00:02\n",
      "   ----------------- ---------------------- 0.9/2.1 MB 876.6 kB/s eta 0:00:02\n",
      "   ------------------ --------------------- 1.0/2.1 MB 898.6 kB/s eta 0:00:02\n",
      "   ------------------ --------------------- 1.0/2.1 MB 882.9 kB/s eta 0:00:02\n",
      "   ------------------- -------------------- 1.1/2.1 MB 879.2 kB/s eta 0:00:02\n",
      "   -------------------- ------------------- 1.1/2.1 MB 876.5 kB/s eta 0:00:02\n",
      "   --------------------- ------------------ 1.1/2.1 MB 878.6 kB/s eta 0:00:02\n",
      "   --------------------- ------------------ 1.2/2.1 MB 881.3 kB/s eta 0:00:02\n",
      "   ---------------------- ----------------- 1.2/2.1 MB 856.4 kB/s eta 0:00:02\n",
      "   ----------------------- ---------------- 1.2/2.1 MB 864.1 kB/s eta 0:00:02\n",
      "   ------------------------ --------------- 1.3/2.1 MB 871.3 kB/s eta 0:00:01\n",
      "   ------------------------ --------------- 1.3/2.1 MB 864.6 kB/s eta 0:00:01\n",
      "   ------------------------- -------------- 1.4/2.1 MB 871.3 kB/s eta 0:00:01\n",
      "   -------------------------- ------------- 1.4/2.1 MB 863.3 kB/s eta 0:00:01\n",
      "   --------------------------- ------------ 1.5/2.1 MB 869.7 kB/s eta 0:00:01\n",
      "   ---------------------------- ----------- 1.5/2.1 MB 871.4 kB/s eta 0:00:01\n",
      "   ----------------------------- ---------- 1.6/2.1 MB 881.4 kB/s eta 0:00:01\n",
      "   ----------------------------- ---------- 1.6/2.1 MB 883.2 kB/s eta 0:00:01\n",
      "   ------------------------------- -------- 1.7/2.1 MB 886.4 kB/s eta 0:00:01\n",
      "   -------------------------------- ------- 1.7/2.1 MB 891.4 kB/s eta 0:00:01\n",
      "   -------------------------------- ------- 1.7/2.1 MB 893.0 kB/s eta 0:00:01\n",
      "   ---------------------------------- ----- 1.8/2.1 MB 907.9 kB/s eta 0:00:01\n",
      "   ---------------------------------- ----- 1.9/2.1 MB 900.4 kB/s eta 0:00:01\n",
      "   ----------------------------------- ---- 1.9/2.1 MB 909.6 kB/s eta 0:00:01\n",
      "   ------------------------------------ --- 1.9/2.1 MB 910.8 kB/s eta 0:00:01\n",
      "   ------------------------------------- -- 2.0/2.1 MB 917.3 kB/s eta 0:00:01\n",
      "   -------------------------------------- - 2.1/2.1 MB 927.6 kB/s eta 0:00:01\n",
      "   ---------------------------------------  2.1/2.1 MB 926.4 kB/s eta 0:00:01\n",
      "   ---------------------------------------- 2.1/2.1 MB 917.3 kB/s eta 0:00:00\n",
      "Downloading kiwisolver-1.4.5-cp312-cp312-win_amd64.whl (56 kB)\n",
      "   ---------------------------------------- 0.0/56.0 kB ? eta -:--:--\n",
      "   ------------------------------------ --- 51.2/56.0 kB 2.7 MB/s eta 0:00:01\n",
      "   ---------------------------------------- 56.0/56.0 kB 1.5 MB/s eta 0:00:00\n",
      "Downloading Pillow-10.1.0-cp312-cp312-win_amd64.whl (2.6 MB)\n",
      "   ---------------------------------------- 0.0/2.6 MB ? eta -:--:--\n",
      "    --------------------------------------- 0.1/2.6 MB 3.2 MB/s eta 0:00:01\n",
      "   - -------------------------------------- 0.1/2.6 MB 1.6 MB/s eta 0:00:02\n",
      "   -- ------------------------------------- 0.1/2.6 MB 1.2 MB/s eta 0:00:03\n",
      "   --- ------------------------------------ 0.2/2.6 MB 1.1 MB/s eta 0:00:03\n",
      "   --- ------------------------------------ 0.2/2.6 MB 1.3 MB/s eta 0:00:02\n",
      "   --- ------------------------------------ 0.2/2.6 MB 1.3 MB/s eta 0:00:02\n",
      "   --- ------------------------------------ 0.2/2.6 MB 1.3 MB/s eta 0:00:02\n",
      "   ------ --------------------------------- 0.4/2.6 MB 1.2 MB/s eta 0:00:02\n",
      "   ------ --------------------------------- 0.5/2.6 MB 1.1 MB/s eta 0:00:02\n",
      "   ------- -------------------------------- 0.5/2.6 MB 1.1 MB/s eta 0:00:02\n",
      "   -------- ------------------------------- 0.5/2.6 MB 1.1 MB/s eta 0:00:02\n",
      "   -------- ------------------------------- 0.6/2.6 MB 1.0 MB/s eta 0:00:02\n",
      "   --------- ------------------------------ 0.6/2.6 MB 1.0 MB/s eta 0:00:02\n",
      "   --------- ------------------------------ 0.6/2.6 MB 1.0 MB/s eta 0:00:02\n",
      "   ---------- ----------------------------- 0.7/2.6 MB 1.0 MB/s eta 0:00:02\n",
      "   ----------- ---------------------------- 0.7/2.6 MB 990.5 kB/s eta 0:00:02\n",
      "   ------------ --------------------------- 0.8/2.6 MB 996.5 kB/s eta 0:00:02\n",
      "   ------------ --------------------------- 0.8/2.6 MB 1.0 MB/s eta 0:00:02\n",
      "   ------------- -------------------------- 0.9/2.6 MB 994.7 kB/s eta 0:00:02\n",
      "   -------------- ------------------------- 0.9/2.6 MB 988.5 kB/s eta 0:00:02\n",
      "   -------------- ------------------------- 1.0/2.6 MB 982.8 kB/s eta 0:00:02\n",
      "   --------------- ------------------------ 1.0/2.6 MB 993.3 kB/s eta 0:00:02\n",
      "   ---------------- ----------------------- 1.0/2.6 MB 987.8 kB/s eta 0:00:02\n",
      "   ---------------- ----------------------- 1.1/2.6 MB 992.2 kB/s eta 0:00:02\n",
      "   ----------------- ---------------------- 1.1/2.6 MB 983.3 kB/s eta 0:00:02\n",
      "   ------------------ --------------------- 1.2/2.6 MB 999.9 kB/s eta 0:00:02\n",
      "   ------------------ --------------------- 1.2/2.6 MB 987.5 kB/s eta 0:00:02\n",
      "   ------------------- -------------------- 1.3/2.6 MB 986.9 kB/s eta 0:00:02\n",
      "   -------------------- ------------------- 1.3/2.6 MB 982.9 kB/s eta 0:00:02\n",
      "   --------------------- ------------------ 1.4/2.6 MB 979.1 kB/s eta 0:00:02\n",
      "   --------------------- ------------------ 1.4/2.6 MB 993.8 kB/s eta 0:00:02\n",
      "   ---------------------- ----------------- 1.5/2.6 MB 986.7 kB/s eta 0:00:02\n",
      "   ----------------------- ---------------- 1.5/2.6 MB 996.6 kB/s eta 0:00:02\n",
      "   ------------------------ --------------- 1.6/2.6 MB 995.8 kB/s eta 0:00:02\n",
      "   ------------------------ --------------- 1.6/2.6 MB 999.2 kB/s eta 0:00:01\n",
      "   ------------------------- -------------- 1.7/2.6 MB 995.6 kB/s eta 0:00:01\n",
      "   -------------------------- ------------- 1.7/2.6 MB 1.0 MB/s eta 0:00:01\n",
      "   --------------------------- ------------ 1.8/2.6 MB 997.3 kB/s eta 0:00:01\n",
      "   --------------------------- ------------ 1.8/2.6 MB 1.0 MB/s eta 0:00:01\n",
      "   ---------------------------- ----------- 1.9/2.6 MB 1.0 MB/s eta 0:00:01\n",
      "   ----------------------------- ---------- 1.9/2.6 MB 1.0 MB/s eta 0:00:01\n",
      "   ------------------------------ --------- 2.0/2.6 MB 1.0 MB/s eta 0:00:01\n",
      "   ------------------------------- -------- 2.0/2.6 MB 1.0 MB/s eta 0:00:01\n",
      "   ------------------------------- -------- 2.1/2.6 MB 1.0 MB/s eta 0:00:01\n",
      "   -------------------------------- ------- 2.1/2.6 MB 1.0 MB/s eta 0:00:01\n",
      "   --------------------------------- ------ 2.2/2.6 MB 1.0 MB/s eta 0:00:01\n",
      "   ---------------------------------- ----- 2.2/2.6 MB 1.0 MB/s eta 0:00:01\n",
      "   ---------------------------------- ----- 2.3/2.6 MB 1.0 MB/s eta 0:00:01\n",
      "   ----------------------------------- ---- 2.3/2.6 MB 1.0 MB/s eta 0:00:01\n",
      "   ------------------------------------ --- 2.4/2.6 MB 1.0 MB/s eta 0:00:01\n",
      "   ------------------------------------- -- 2.4/2.6 MB 1.0 MB/s eta 0:00:01\n",
      "   -------------------------------------- - 2.5/2.6 MB 1.0 MB/s eta 0:00:01\n",
      "   -------------------------------------- - 2.5/2.6 MB 1.0 MB/s eta 0:00:01\n",
      "   ---------------------------------------  2.6/2.6 MB 1.0 MB/s eta 0:00:01\n",
      "   ---------------------------------------- 2.6/2.6 MB 1.0 MB/s eta 0:00:00\n",
      "Downloading pyparsing-3.1.1-py3-none-any.whl (103 kB)\n",
      "   ---------------------------------------- 0.0/103.1 kB ? eta -:--:--\n",
      "   --------------- ----------------------- 41.0/103.1 kB 991.0 kB/s eta 0:00:01\n",
      "   ---------------------------------------- 103.1/103.1 kB 1.2 MB/s eta 0:00:00\n",
      "Installing collected packages: pyparsing, pillow, kiwisolver, fonttools, cycler, contourpy, matplotlib, seaborn\n",
      "Successfully installed contourpy-1.1.1 cycler-0.12.1 fonttools-4.43.1 kiwisolver-1.4.5 matplotlib-3.8.0 pillow-10.1.0 pyparsing-3.1.1 seaborn-0.13.0\n",
      "Note: you may need to restart the kernel to use updated packages.\n"
     ]
    },
    {
     "name": "stderr",
     "output_type": "stream",
     "text": [
      "\n",
      "[notice] A new release of pip is available: 23.2.1 -> 23.3.1\n",
      "[notice] To update, run: python.exe -m pip install --upgrade pip\n"
     ]
    }
   ],
   "source": [
    "pip install seaborn"
   ]
  },
  {
   "cell_type": "code",
   "execution_count": 82,
   "metadata": {},
   "outputs": [
    {
     "name": "stdout",
     "output_type": "stream",
     "text": [
      "<class 'pandas.core.frame.DataFrame'>\n",
      "RangeIndex: 1000 entries, 0 to 999\n",
      "Data columns (total 8 columns):\n",
      " #   Column             Non-Null Count  Dtype  \n",
      "---  ------             --------------  -----  \n",
      " 0   First Name         933 non-null    object \n",
      " 1   Gender             855 non-null    object \n",
      " 2   Start Date         1000 non-null   object \n",
      " 3   Last Login Time    1000 non-null   object \n",
      " 4   Salary             1000 non-null   int64  \n",
      " 5   Bonus %            1000 non-null   float64\n",
      " 6   Senior Management  933 non-null    object \n",
      " 7   Team               957 non-null    object \n",
      "dtypes: float64(1), int64(1), object(6)\n",
      "memory usage: 62.6+ KB\n"
     ]
    }
   ],
   "source": [
    "import pandas as pd\n",
    "import matplotlib.pyplot as plt\n",
    "import seaborn as sns\n",
    "\n",
    "\n",
    "# Load the Titanic dataset\n",
    "df1 = pd.read_csv('employees.csv')\n",
    "\n",
    "df1.info()"
   ]
  },
  {
   "cell_type": "code",
   "execution_count": 83,
   "metadata": {},
   "outputs": [
    {
     "data": {
      "image/png": "[encoded data removed]",
      "text/plain": [
       "<Figure size 640x480 with 1 Axes>"
      ]
     },
     "metadata": {},
     "output_type": "display_data"
    }
   ],
   "source": [
    "# Stacked bar chart of survival rate by passenger class and sex\n",
    "df_grouped = df1.groupby(['Salary', 'Gender'])['Bonus %'].mean().unstack()\n",
    "df_grouped.plot(kind='bar', stacked=True)\n",
    "plt.xlabel('Salary Class')\n",
    "plt.ylabel('Gender Rate')\n",
    "plt.title('Salary Rate by Gender Class and Bonus %')\n",
    "plt.show()"
   ]
  }
 ],
 "metadata": {
  "kernelspec": {
   "display_name": "Python 3",
   "language": "python",
   "name": "python3"
  },
  "language_info": {
   "codemirror_mode": {
    "name": "ipython",
    "version": 3
   },
   "file_extension": ".py",
   "mimetype": "text/x-python",
   "name": "python",
   "nbconvert_exporter": "python",
   "pygments_lexer": "ipython3",
   "version": "3.12.0"
  }
 },
 "nbformat": 4,
 "nbformat_minor": 2
}
